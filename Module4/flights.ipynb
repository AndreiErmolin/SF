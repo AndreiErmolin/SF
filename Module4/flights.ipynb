{
 "cells": [
  {
   "cell_type": "code",
   "execution_count": 7,
   "metadata": {
    "ExecuteTime": {
     "end_time": "2020-11-06T09:41:44.382438Z",
     "start_time": "2020-11-06T09:41:44.380048Z"
    }
   },
   "outputs": [
    {
     "data": {
      "text/html": [
       "        <script type=\"text/javascript\">\n",
       "        window.PlotlyConfig = {MathJaxConfig: 'local'};\n",
       "        if (window.MathJax) {MathJax.Hub.Config({SVG: {font: \"STIX-Web\"}});}\n",
       "        if (typeof require !== 'undefined') {\n",
       "        require.undef(\"plotly\");\n",
       "        requirejs.config({\n",
       "            paths: {\n",
       "                'plotly': ['https://cdn.plot.ly/plotly-latest.min']\n",
       "            }\n",
       "        });\n",
       "        require(['plotly'], function(Plotly) {\n",
       "            window._Plotly = Plotly;\n",
       "        });\n",
       "        }\n",
       "        </script>\n",
       "        "
      ]
     },
     "metadata": {},
     "output_type": "display_data"
    }
   ],
   "source": [
    "import numpy as np\n",
    "import pandas as pd\n",
    "import plotly.express as px\n",
    "from plotly.subplots import make_subplots\n",
    "import plotly.graph_objects as go\n",
    "from plotly.offline import iplot,init_notebook_mode,download_plotlyjs\n",
    "init_notebook_mode(connected=True)\n",
    "from datetime import datetime,timedelta"
   ]
  },
  {
   "cell_type": "code",
   "execution_count": null,
   "metadata": {},
   "outputs": [],
   "source": [
    "Из запроса получим датафрейм для работы"
   ]
  },
  {
   "cell_type": "code",
   "execution_count": 8,
   "metadata": {
    "ExecuteTime": {
     "end_time": "2020-11-06T09:41:46.487050Z",
     "start_time": "2020-11-06T09:41:46.468143Z"
    },
    "scrolled": true
   },
   "outputs": [
    {
     "data": {
      "text/html": [
       "<div>\n",
       "<style scoped>\n",
       "    .dataframe tbody tr th:only-of-type {\n",
       "        vertical-align: middle;\n",
       "    }\n",
       "\n",
       "    .dataframe tbody tr th {\n",
       "        vertical-align: top;\n",
       "    }\n",
       "\n",
       "    .dataframe thead th {\n",
       "        text-align: right;\n",
       "    }\n",
       "</style>\n",
       "<table border=\"1\" class=\"dataframe\">\n",
       "  <thead>\n",
       "    <tr style=\"text-align: right;\">\n",
       "      <th></th>\n",
       "      <th>flight_id</th>\n",
       "      <th>departure_airport</th>\n",
       "      <th>arrival_airport</th>\n",
       "      <th>model</th>\n",
       "      <th>actual_departure</th>\n",
       "      <th>actual_arrival</th>\n",
       "      <th>departure_city</th>\n",
       "      <th>arrival_city</th>\n",
       "      <th>departure_longitude</th>\n",
       "      <th>departure_latitude</th>\n",
       "      <th>arrival_longitude</th>\n",
       "      <th>arrival_latitude</th>\n",
       "      <th>sum_amount</th>\n",
       "      <th>tickets_sell</th>\n",
       "      <th>flight_time</th>\n",
       "    </tr>\n",
       "  </thead>\n",
       "  <tbody>\n",
       "    <tr>\n",
       "      <th>0</th>\n",
       "      <td>136119</td>\n",
       "      <td>AAQ</td>\n",
       "      <td>SVO</td>\n",
       "      <td>Boeing 737-300</td>\n",
       "      <td>2017-01-03 10:08:00</td>\n",
       "      <td>2017-01-03 11:49:00</td>\n",
       "      <td>Anapa</td>\n",
       "      <td>Moscow</td>\n",
       "      <td>37.347301</td>\n",
       "      <td>45.002102</td>\n",
       "      <td>37.414600</td>\n",
       "      <td>55.972599</td>\n",
       "      <td>1653000.0</td>\n",
       "      <td>113.0</td>\n",
       "      <td>1.683333</td>\n",
       "    </tr>\n",
       "    <tr>\n",
       "      <th>1</th>\n",
       "      <td>136120</td>\n",
       "      <td>AAQ</td>\n",
       "      <td>SVO</td>\n",
       "      <td>Boeing 737-300</td>\n",
       "      <td>2017-02-24 10:07:00</td>\n",
       "      <td>2017-02-24 11:46:00</td>\n",
       "      <td>Anapa</td>\n",
       "      <td>Moscow</td>\n",
       "      <td>37.347301</td>\n",
       "      <td>45.002102</td>\n",
       "      <td>37.414600</td>\n",
       "      <td>55.972599</td>\n",
       "      <td>1605400.0</td>\n",
       "      <td>109.0</td>\n",
       "      <td>1.650000</td>\n",
       "    </tr>\n",
       "    <tr>\n",
       "      <th>2</th>\n",
       "      <td>136122</td>\n",
       "      <td>AAQ</td>\n",
       "      <td>SVO</td>\n",
       "      <td>Boeing 737-300</td>\n",
       "      <td>2017-01-08 10:08:00</td>\n",
       "      <td>2017-01-08 11:48:00</td>\n",
       "      <td>Anapa</td>\n",
       "      <td>Moscow</td>\n",
       "      <td>37.347301</td>\n",
       "      <td>45.002102</td>\n",
       "      <td>37.414600</td>\n",
       "      <td>55.972599</td>\n",
       "      <td>1431000.0</td>\n",
       "      <td>97.0</td>\n",
       "      <td>1.666667</td>\n",
       "    </tr>\n",
       "    <tr>\n",
       "      <th>3</th>\n",
       "      <td>136130</td>\n",
       "      <td>AAQ</td>\n",
       "      <td>SVO</td>\n",
       "      <td>Boeing 737-300</td>\n",
       "      <td>2017-02-13 10:07:00</td>\n",
       "      <td>2017-02-13 11:46:00</td>\n",
       "      <td>Anapa</td>\n",
       "      <td>Moscow</td>\n",
       "      <td>37.347301</td>\n",
       "      <td>45.002102</td>\n",
       "      <td>37.414600</td>\n",
       "      <td>55.972599</td>\n",
       "      <td>1556600.0</td>\n",
       "      <td>107.0</td>\n",
       "      <td>1.650000</td>\n",
       "    </tr>\n",
       "    <tr>\n",
       "      <th>4</th>\n",
       "      <td>136131</td>\n",
       "      <td>AAQ</td>\n",
       "      <td>SVO</td>\n",
       "      <td>Boeing 737-300</td>\n",
       "      <td>2017-01-28 10:07:00</td>\n",
       "      <td>2017-01-28 11:46:00</td>\n",
       "      <td>Anapa</td>\n",
       "      <td>Moscow</td>\n",
       "      <td>37.347301</td>\n",
       "      <td>45.002102</td>\n",
       "      <td>37.414600</td>\n",
       "      <td>55.972599</td>\n",
       "      <td>1812800.0</td>\n",
       "      <td>124.0</td>\n",
       "      <td>1.650000</td>\n",
       "    </tr>\n",
       "    <tr>\n",
       "      <th>...</th>\n",
       "      <td>...</td>\n",
       "      <td>...</td>\n",
       "      <td>...</td>\n",
       "      <td>...</td>\n",
       "      <td>...</td>\n",
       "      <td>...</td>\n",
       "      <td>...</td>\n",
       "      <td>...</td>\n",
       "      <td>...</td>\n",
       "      <td>...</td>\n",
       "      <td>...</td>\n",
       "      <td>...</td>\n",
       "      <td>...</td>\n",
       "      <td>...</td>\n",
       "      <td>...</td>\n",
       "    </tr>\n",
       "    <tr>\n",
       "      <th>122</th>\n",
       "      <td>136936</td>\n",
       "      <td>AAQ</td>\n",
       "      <td>EGO</td>\n",
       "      <td>Sukhoi Superjet-100</td>\n",
       "      <td>2017-01-02 09:28:00</td>\n",
       "      <td>2017-01-02 10:18:00</td>\n",
       "      <td>Anapa</td>\n",
       "      <td>Belgorod</td>\n",
       "      <td>37.347301</td>\n",
       "      <td>45.002102</td>\n",
       "      <td>36.590099</td>\n",
       "      <td>50.643799</td>\n",
       "      <td>632400.0</td>\n",
       "      <td>82.0</td>\n",
       "      <td>0.833333</td>\n",
       "    </tr>\n",
       "    <tr>\n",
       "      <th>123</th>\n",
       "      <td>136937</td>\n",
       "      <td>AAQ</td>\n",
       "      <td>EGO</td>\n",
       "      <td>Sukhoi Superjet-100</td>\n",
       "      <td>2017-01-03 09:29:00</td>\n",
       "      <td>2017-01-03 10:19:00</td>\n",
       "      <td>Anapa</td>\n",
       "      <td>Belgorod</td>\n",
       "      <td>37.347301</td>\n",
       "      <td>45.002102</td>\n",
       "      <td>36.590099</td>\n",
       "      <td>50.643799</td>\n",
       "      <td>626100.0</td>\n",
       "      <td>81.0</td>\n",
       "      <td>0.833333</td>\n",
       "    </tr>\n",
       "    <tr>\n",
       "      <th>124</th>\n",
       "      <td>136951</td>\n",
       "      <td>AAQ</td>\n",
       "      <td>EGO</td>\n",
       "      <td>Sukhoi Superjet-100</td>\n",
       "      <td>2017-02-02 09:28:00</td>\n",
       "      <td>2017-02-02 10:17:00</td>\n",
       "      <td>Anapa</td>\n",
       "      <td>Belgorod</td>\n",
       "      <td>37.347301</td>\n",
       "      <td>45.002102</td>\n",
       "      <td>36.590099</td>\n",
       "      <td>50.643799</td>\n",
       "      <td>720600.0</td>\n",
       "      <td>90.0</td>\n",
       "      <td>0.816667</td>\n",
       "    </tr>\n",
       "    <tr>\n",
       "      <th>125</th>\n",
       "      <td>136953</td>\n",
       "      <td>AAQ</td>\n",
       "      <td>EGO</td>\n",
       "      <td>Sukhoi Superjet-100</td>\n",
       "      <td>2017-02-27 09:27:00</td>\n",
       "      <td>2017-02-27 10:17:00</td>\n",
       "      <td>Anapa</td>\n",
       "      <td>Belgorod</td>\n",
       "      <td>37.347301</td>\n",
       "      <td>45.002102</td>\n",
       "      <td>36.590099</td>\n",
       "      <td>50.643799</td>\n",
       "      <td>765300.0</td>\n",
       "      <td>97.0</td>\n",
       "      <td>0.833333</td>\n",
       "    </tr>\n",
       "    <tr>\n",
       "      <th>126</th>\n",
       "      <td>136956</td>\n",
       "      <td>AAQ</td>\n",
       "      <td>EGO</td>\n",
       "      <td>Sukhoi Superjet-100</td>\n",
       "      <td>2017-02-04 09:33:00</td>\n",
       "      <td>2017-02-04 10:23:00</td>\n",
       "      <td>Anapa</td>\n",
       "      <td>Belgorod</td>\n",
       "      <td>37.347301</td>\n",
       "      <td>45.002102</td>\n",
       "      <td>36.590099</td>\n",
       "      <td>50.643799</td>\n",
       "      <td>746400.0</td>\n",
       "      <td>96.0</td>\n",
       "      <td>0.833333</td>\n",
       "    </tr>\n",
       "  </tbody>\n",
       "</table>\n",
       "<p>127 rows × 15 columns</p>\n",
       "</div>"
      ],
      "text/plain": [
       "     flight_id departure_airport arrival_airport                model  \\\n",
       "0       136119               AAQ             SVO       Boeing 737-300   \n",
       "1       136120               AAQ             SVO       Boeing 737-300   \n",
       "2       136122               AAQ             SVO       Boeing 737-300   \n",
       "3       136130               AAQ             SVO       Boeing 737-300   \n",
       "4       136131               AAQ             SVO       Boeing 737-300   \n",
       "..         ...               ...             ...                  ...   \n",
       "122     136936               AAQ             EGO  Sukhoi Superjet-100   \n",
       "123     136937               AAQ             EGO  Sukhoi Superjet-100   \n",
       "124     136951               AAQ             EGO  Sukhoi Superjet-100   \n",
       "125     136953               AAQ             EGO  Sukhoi Superjet-100   \n",
       "126     136956               AAQ             EGO  Sukhoi Superjet-100   \n",
       "\n",
       "       actual_departure      actual_arrival departure_city arrival_city  \\\n",
       "0   2017-01-03 10:08:00 2017-01-03 11:49:00          Anapa       Moscow   \n",
       "1   2017-02-24 10:07:00 2017-02-24 11:46:00          Anapa       Moscow   \n",
       "2   2017-01-08 10:08:00 2017-01-08 11:48:00          Anapa       Moscow   \n",
       "3   2017-02-13 10:07:00 2017-02-13 11:46:00          Anapa       Moscow   \n",
       "4   2017-01-28 10:07:00 2017-01-28 11:46:00          Anapa       Moscow   \n",
       "..                  ...                 ...            ...          ...   \n",
       "122 2017-01-02 09:28:00 2017-01-02 10:18:00          Anapa     Belgorod   \n",
       "123 2017-01-03 09:29:00 2017-01-03 10:19:00          Anapa     Belgorod   \n",
       "124 2017-02-02 09:28:00 2017-02-02 10:17:00          Anapa     Belgorod   \n",
       "125 2017-02-27 09:27:00 2017-02-27 10:17:00          Anapa     Belgorod   \n",
       "126 2017-02-04 09:33:00 2017-02-04 10:23:00          Anapa     Belgorod   \n",
       "\n",
       "     departure_longitude  departure_latitude  arrival_longitude  \\\n",
       "0              37.347301           45.002102          37.414600   \n",
       "1              37.347301           45.002102          37.414600   \n",
       "2              37.347301           45.002102          37.414600   \n",
       "3              37.347301           45.002102          37.414600   \n",
       "4              37.347301           45.002102          37.414600   \n",
       "..                   ...                 ...                ...   \n",
       "122            37.347301           45.002102          36.590099   \n",
       "123            37.347301           45.002102          36.590099   \n",
       "124            37.347301           45.002102          36.590099   \n",
       "125            37.347301           45.002102          36.590099   \n",
       "126            37.347301           45.002102          36.590099   \n",
       "\n",
       "     arrival_latitude  sum_amount  tickets_sell  flight_time  \n",
       "0           55.972599   1653000.0         113.0     1.683333  \n",
       "1           55.972599   1605400.0         109.0     1.650000  \n",
       "2           55.972599   1431000.0          97.0     1.666667  \n",
       "3           55.972599   1556600.0         107.0     1.650000  \n",
       "4           55.972599   1812800.0         124.0     1.650000  \n",
       "..                ...         ...           ...          ...  \n",
       "122         50.643799    632400.0          82.0     0.833333  \n",
       "123         50.643799    626100.0          81.0     0.833333  \n",
       "124         50.643799    720600.0          90.0     0.816667  \n",
       "125         50.643799    765300.0          97.0     0.833333  \n",
       "126         50.643799    746400.0          96.0     0.833333  \n",
       "\n",
       "[127 rows x 15 columns]"
      ]
     },
     "execution_count": 8,
     "metadata": {},
     "output_type": "execute_result"
    }
   ],
   "source": [
    "df=pd.read_csv('query.csv')\n",
    "df['actual_arrival']=df['actual_arrival'].apply(lambda x : datetime.strptime(x,'%Y-%m-%dT%H:%M:%SZ')) # преобразуем дту в DateTime\n",
    "df['actual_departure']=df['actual_departure'].apply(lambda x : datetime.strptime(x,'%Y-%m-%dT%H:%M:%SZ'))#преобразуем дту в DateTime\n",
    "df['flight_time']=(df['actual_arrival']-df['actual_departure']).apply(lambda x :x.total_seconds()/(60*60))# добавим колонку содержащую время полета в часах\n",
    "df\n"
   ]
  },
  {
   "cell_type": "markdown",
   "metadata": {},
   "source": [
    "# Информация по ценам на топливо в аэропортах РФ на 2017 г\n",
    "Взята с сайта https://favt.gov.ru/dejatelnost-ajeroporty-i-ajerodromy-ceny-na-aviagsm-statistika-aviagsm\n",
    "и составляет в аэропорту Анапа:\n",
    "январь 2017 41435 руб/тонна без ндс(48893 с ндс 18%)\n",
    "февраль 2017 39553 руб/тонна без ндс(46672 с ндс 18%)\n",
    "декабрь 2017 47101 руб/тонна без ндс(55579 с ндс 18%)\n",
    "Информация по расходу на топливо взята с википедии и составляет: \n",
    "2,4 тыс. кг топлива на 1 час полета для boeing 737-300\n",
    "1,7 тыс . кг топлива на 1 час полета для sukhoi superjet-100"
   ]
  },
  {
   "cell_type": "code",
   "execution_count": null,
   "metadata": {},
   "outputs": [],
   "source": [
    "дополним датфрейм данными по ценам на топливо и расходу"
   ]
  },
  {
   "cell_type": "code",
   "execution_count": 9,
   "metadata": {
    "ExecuteTime": {
     "end_time": "2020-11-06T09:41:52.798369Z",
     "start_time": "2020-11-06T09:41:52.772818Z"
    }
   },
   "outputs": [
    {
     "data": {
      "text/html": [
       "<div>\n",
       "<style scoped>\n",
       "    .dataframe tbody tr th:only-of-type {\n",
       "        vertical-align: middle;\n",
       "    }\n",
       "\n",
       "    .dataframe tbody tr th {\n",
       "        vertical-align: top;\n",
       "    }\n",
       "\n",
       "    .dataframe thead th {\n",
       "        text-align: right;\n",
       "    }\n",
       "</style>\n",
       "<table border=\"1\" class=\"dataframe\">\n",
       "  <thead>\n",
       "    <tr style=\"text-align: right;\">\n",
       "      <th></th>\n",
       "      <th>flight_id</th>\n",
       "      <th>departure_airport</th>\n",
       "      <th>arrival_airport</th>\n",
       "      <th>model</th>\n",
       "      <th>actual_departure</th>\n",
       "      <th>actual_arrival</th>\n",
       "      <th>departure_city</th>\n",
       "      <th>arrival_city</th>\n",
       "      <th>departure_longitude</th>\n",
       "      <th>departure_latitude</th>\n",
       "      <th>arrival_longitude</th>\n",
       "      <th>arrival_latitude</th>\n",
       "      <th>sum_amount</th>\n",
       "      <th>tickets_sell</th>\n",
       "      <th>flight_time</th>\n",
       "      <th>fuel_utilize</th>\n",
       "      <th>fuel_cost</th>\n",
       "      <th>profit</th>\n",
       "    </tr>\n",
       "  </thead>\n",
       "  <tbody>\n",
       "    <tr>\n",
       "      <th>0</th>\n",
       "      <td>136119</td>\n",
       "      <td>AAQ</td>\n",
       "      <td>SVO</td>\n",
       "      <td>Boeing 737-300</td>\n",
       "      <td>2017-01-03 10:08:00</td>\n",
       "      <td>2017-01-03 11:49:00</td>\n",
       "      <td>Anapa</td>\n",
       "      <td>Moscow</td>\n",
       "      <td>37.347301</td>\n",
       "      <td>45.002102</td>\n",
       "      <td>37.414600</td>\n",
       "      <td>55.972599</td>\n",
       "      <td>1653000.0</td>\n",
       "      <td>113.0</td>\n",
       "      <td>1.683333</td>\n",
       "      <td>4.040000</td>\n",
       "      <td>197527.720000</td>\n",
       "      <td>1.455472e+06</td>\n",
       "    </tr>\n",
       "    <tr>\n",
       "      <th>1</th>\n",
       "      <td>136120</td>\n",
       "      <td>AAQ</td>\n",
       "      <td>SVO</td>\n",
       "      <td>Boeing 737-300</td>\n",
       "      <td>2017-02-24 10:07:00</td>\n",
       "      <td>2017-02-24 11:46:00</td>\n",
       "      <td>Anapa</td>\n",
       "      <td>Moscow</td>\n",
       "      <td>37.347301</td>\n",
       "      <td>45.002102</td>\n",
       "      <td>37.414600</td>\n",
       "      <td>55.972599</td>\n",
       "      <td>1605400.0</td>\n",
       "      <td>109.0</td>\n",
       "      <td>1.650000</td>\n",
       "      <td>3.960000</td>\n",
       "      <td>184821.120000</td>\n",
       "      <td>1.420579e+06</td>\n",
       "    </tr>\n",
       "    <tr>\n",
       "      <th>2</th>\n",
       "      <td>136122</td>\n",
       "      <td>AAQ</td>\n",
       "      <td>SVO</td>\n",
       "      <td>Boeing 737-300</td>\n",
       "      <td>2017-01-08 10:08:00</td>\n",
       "      <td>2017-01-08 11:48:00</td>\n",
       "      <td>Anapa</td>\n",
       "      <td>Moscow</td>\n",
       "      <td>37.347301</td>\n",
       "      <td>45.002102</td>\n",
       "      <td>37.414600</td>\n",
       "      <td>55.972599</td>\n",
       "      <td>1431000.0</td>\n",
       "      <td>97.0</td>\n",
       "      <td>1.666667</td>\n",
       "      <td>4.000000</td>\n",
       "      <td>195572.000000</td>\n",
       "      <td>1.235428e+06</td>\n",
       "    </tr>\n",
       "    <tr>\n",
       "      <th>3</th>\n",
       "      <td>136130</td>\n",
       "      <td>AAQ</td>\n",
       "      <td>SVO</td>\n",
       "      <td>Boeing 737-300</td>\n",
       "      <td>2017-02-13 10:07:00</td>\n",
       "      <td>2017-02-13 11:46:00</td>\n",
       "      <td>Anapa</td>\n",
       "      <td>Moscow</td>\n",
       "      <td>37.347301</td>\n",
       "      <td>45.002102</td>\n",
       "      <td>37.414600</td>\n",
       "      <td>55.972599</td>\n",
       "      <td>1556600.0</td>\n",
       "      <td>107.0</td>\n",
       "      <td>1.650000</td>\n",
       "      <td>3.960000</td>\n",
       "      <td>184821.120000</td>\n",
       "      <td>1.371779e+06</td>\n",
       "    </tr>\n",
       "    <tr>\n",
       "      <th>4</th>\n",
       "      <td>136131</td>\n",
       "      <td>AAQ</td>\n",
       "      <td>SVO</td>\n",
       "      <td>Boeing 737-300</td>\n",
       "      <td>2017-01-28 10:07:00</td>\n",
       "      <td>2017-01-28 11:46:00</td>\n",
       "      <td>Anapa</td>\n",
       "      <td>Moscow</td>\n",
       "      <td>37.347301</td>\n",
       "      <td>45.002102</td>\n",
       "      <td>37.414600</td>\n",
       "      <td>55.972599</td>\n",
       "      <td>1812800.0</td>\n",
       "      <td>124.0</td>\n",
       "      <td>1.650000</td>\n",
       "      <td>3.960000</td>\n",
       "      <td>193616.280000</td>\n",
       "      <td>1.619184e+06</td>\n",
       "    </tr>\n",
       "    <tr>\n",
       "      <th>...</th>\n",
       "      <td>...</td>\n",
       "      <td>...</td>\n",
       "      <td>...</td>\n",
       "      <td>...</td>\n",
       "      <td>...</td>\n",
       "      <td>...</td>\n",
       "      <td>...</td>\n",
       "      <td>...</td>\n",
       "      <td>...</td>\n",
       "      <td>...</td>\n",
       "      <td>...</td>\n",
       "      <td>...</td>\n",
       "      <td>...</td>\n",
       "      <td>...</td>\n",
       "      <td>...</td>\n",
       "      <td>...</td>\n",
       "      <td>...</td>\n",
       "      <td>...</td>\n",
       "    </tr>\n",
       "    <tr>\n",
       "      <th>122</th>\n",
       "      <td>136936</td>\n",
       "      <td>AAQ</td>\n",
       "      <td>EGO</td>\n",
       "      <td>Sukhoi Superjet-100</td>\n",
       "      <td>2017-01-02 09:28:00</td>\n",
       "      <td>2017-01-02 10:18:00</td>\n",
       "      <td>Anapa</td>\n",
       "      <td>Belgorod</td>\n",
       "      <td>37.347301</td>\n",
       "      <td>45.002102</td>\n",
       "      <td>36.590099</td>\n",
       "      <td>50.643799</td>\n",
       "      <td>632400.0</td>\n",
       "      <td>82.0</td>\n",
       "      <td>0.833333</td>\n",
       "      <td>1.416667</td>\n",
       "      <td>69265.083333</td>\n",
       "      <td>5.631349e+05</td>\n",
       "    </tr>\n",
       "    <tr>\n",
       "      <th>123</th>\n",
       "      <td>136937</td>\n",
       "      <td>AAQ</td>\n",
       "      <td>EGO</td>\n",
       "      <td>Sukhoi Superjet-100</td>\n",
       "      <td>2017-01-03 09:29:00</td>\n",
       "      <td>2017-01-03 10:19:00</td>\n",
       "      <td>Anapa</td>\n",
       "      <td>Belgorod</td>\n",
       "      <td>37.347301</td>\n",
       "      <td>45.002102</td>\n",
       "      <td>36.590099</td>\n",
       "      <td>50.643799</td>\n",
       "      <td>626100.0</td>\n",
       "      <td>81.0</td>\n",
       "      <td>0.833333</td>\n",
       "      <td>1.416667</td>\n",
       "      <td>69265.083333</td>\n",
       "      <td>5.568349e+05</td>\n",
       "    </tr>\n",
       "    <tr>\n",
       "      <th>124</th>\n",
       "      <td>136951</td>\n",
       "      <td>AAQ</td>\n",
       "      <td>EGO</td>\n",
       "      <td>Sukhoi Superjet-100</td>\n",
       "      <td>2017-02-02 09:28:00</td>\n",
       "      <td>2017-02-02 10:17:00</td>\n",
       "      <td>Anapa</td>\n",
       "      <td>Belgorod</td>\n",
       "      <td>37.347301</td>\n",
       "      <td>45.002102</td>\n",
       "      <td>36.590099</td>\n",
       "      <td>50.643799</td>\n",
       "      <td>720600.0</td>\n",
       "      <td>90.0</td>\n",
       "      <td>0.816667</td>\n",
       "      <td>1.388333</td>\n",
       "      <td>64796.293333</td>\n",
       "      <td>6.558037e+05</td>\n",
       "    </tr>\n",
       "    <tr>\n",
       "      <th>125</th>\n",
       "      <td>136953</td>\n",
       "      <td>AAQ</td>\n",
       "      <td>EGO</td>\n",
       "      <td>Sukhoi Superjet-100</td>\n",
       "      <td>2017-02-27 09:27:00</td>\n",
       "      <td>2017-02-27 10:17:00</td>\n",
       "      <td>Anapa</td>\n",
       "      <td>Belgorod</td>\n",
       "      <td>37.347301</td>\n",
       "      <td>45.002102</td>\n",
       "      <td>36.590099</td>\n",
       "      <td>50.643799</td>\n",
       "      <td>765300.0</td>\n",
       "      <td>97.0</td>\n",
       "      <td>0.833333</td>\n",
       "      <td>1.416667</td>\n",
       "      <td>66118.666667</td>\n",
       "      <td>6.991813e+05</td>\n",
       "    </tr>\n",
       "    <tr>\n",
       "      <th>126</th>\n",
       "      <td>136956</td>\n",
       "      <td>AAQ</td>\n",
       "      <td>EGO</td>\n",
       "      <td>Sukhoi Superjet-100</td>\n",
       "      <td>2017-02-04 09:33:00</td>\n",
       "      <td>2017-02-04 10:23:00</td>\n",
       "      <td>Anapa</td>\n",
       "      <td>Belgorod</td>\n",
       "      <td>37.347301</td>\n",
       "      <td>45.002102</td>\n",
       "      <td>36.590099</td>\n",
       "      <td>50.643799</td>\n",
       "      <td>746400.0</td>\n",
       "      <td>96.0</td>\n",
       "      <td>0.833333</td>\n",
       "      <td>1.416667</td>\n",
       "      <td>66118.666667</td>\n",
       "      <td>6.802813e+05</td>\n",
       "    </tr>\n",
       "  </tbody>\n",
       "</table>\n",
       "<p>127 rows × 18 columns</p>\n",
       "</div>"
      ],
      "text/plain": [
       "     flight_id departure_airport arrival_airport                model  \\\n",
       "0       136119               AAQ             SVO       Boeing 737-300   \n",
       "1       136120               AAQ             SVO       Boeing 737-300   \n",
       "2       136122               AAQ             SVO       Boeing 737-300   \n",
       "3       136130               AAQ             SVO       Boeing 737-300   \n",
       "4       136131               AAQ             SVO       Boeing 737-300   \n",
       "..         ...               ...             ...                  ...   \n",
       "122     136936               AAQ             EGO  Sukhoi Superjet-100   \n",
       "123     136937               AAQ             EGO  Sukhoi Superjet-100   \n",
       "124     136951               AAQ             EGO  Sukhoi Superjet-100   \n",
       "125     136953               AAQ             EGO  Sukhoi Superjet-100   \n",
       "126     136956               AAQ             EGO  Sukhoi Superjet-100   \n",
       "\n",
       "       actual_departure      actual_arrival departure_city arrival_city  \\\n",
       "0   2017-01-03 10:08:00 2017-01-03 11:49:00          Anapa       Moscow   \n",
       "1   2017-02-24 10:07:00 2017-02-24 11:46:00          Anapa       Moscow   \n",
       "2   2017-01-08 10:08:00 2017-01-08 11:48:00          Anapa       Moscow   \n",
       "3   2017-02-13 10:07:00 2017-02-13 11:46:00          Anapa       Moscow   \n",
       "4   2017-01-28 10:07:00 2017-01-28 11:46:00          Anapa       Moscow   \n",
       "..                  ...                 ...            ...          ...   \n",
       "122 2017-01-02 09:28:00 2017-01-02 10:18:00          Anapa     Belgorod   \n",
       "123 2017-01-03 09:29:00 2017-01-03 10:19:00          Anapa     Belgorod   \n",
       "124 2017-02-02 09:28:00 2017-02-02 10:17:00          Anapa     Belgorod   \n",
       "125 2017-02-27 09:27:00 2017-02-27 10:17:00          Anapa     Belgorod   \n",
       "126 2017-02-04 09:33:00 2017-02-04 10:23:00          Anapa     Belgorod   \n",
       "\n",
       "     departure_longitude  departure_latitude  arrival_longitude  \\\n",
       "0              37.347301           45.002102          37.414600   \n",
       "1              37.347301           45.002102          37.414600   \n",
       "2              37.347301           45.002102          37.414600   \n",
       "3              37.347301           45.002102          37.414600   \n",
       "4              37.347301           45.002102          37.414600   \n",
       "..                   ...                 ...                ...   \n",
       "122            37.347301           45.002102          36.590099   \n",
       "123            37.347301           45.002102          36.590099   \n",
       "124            37.347301           45.002102          36.590099   \n",
       "125            37.347301           45.002102          36.590099   \n",
       "126            37.347301           45.002102          36.590099   \n",
       "\n",
       "     arrival_latitude  sum_amount  tickets_sell  flight_time  fuel_utilize  \\\n",
       "0           55.972599   1653000.0         113.0     1.683333      4.040000   \n",
       "1           55.972599   1605400.0         109.0     1.650000      3.960000   \n",
       "2           55.972599   1431000.0          97.0     1.666667      4.000000   \n",
       "3           55.972599   1556600.0         107.0     1.650000      3.960000   \n",
       "4           55.972599   1812800.0         124.0     1.650000      3.960000   \n",
       "..                ...         ...           ...          ...           ...   \n",
       "122         50.643799    632400.0          82.0     0.833333      1.416667   \n",
       "123         50.643799    626100.0          81.0     0.833333      1.416667   \n",
       "124         50.643799    720600.0          90.0     0.816667      1.388333   \n",
       "125         50.643799    765300.0          97.0     0.833333      1.416667   \n",
       "126         50.643799    746400.0          96.0     0.833333      1.416667   \n",
       "\n",
       "         fuel_cost        profit  \n",
       "0    197527.720000  1.455472e+06  \n",
       "1    184821.120000  1.420579e+06  \n",
       "2    195572.000000  1.235428e+06  \n",
       "3    184821.120000  1.371779e+06  \n",
       "4    193616.280000  1.619184e+06  \n",
       "..             ...           ...  \n",
       "122   69265.083333  5.631349e+05  \n",
       "123   69265.083333  5.568349e+05  \n",
       "124   64796.293333  6.558037e+05  \n",
       "125   66118.666667  6.991813e+05  \n",
       "126   66118.666667  6.802813e+05  \n",
       "\n",
       "[127 rows x 18 columns]"
      ]
     },
     "execution_count": 9,
     "metadata": {},
     "output_type": "execute_result"
    }
   ],
   "source": [
    "df['fuel_utilize'] = pd.Series(df.index).apply(lambda x: df['flight_time'].iloc[x]*2.4 if df['model'].iloc[x]\n",
    "                                               == 'Boeing 737-300' else df['flight_time'].iloc[x]*1.7)  # умножим время полета на расход чтобы получить\n",
    "# чтобы получить расход за полет для конкретного самолета\n",
    "# добавим колонку с затратами на  топливо(цена зависит от месяца)\n",
    "df['fuel_cost'] = pd.Series(df.index).apply(\n",
    "    lambda x: df['fuel_utilize'].iloc[x]*48893 if df['actual_departure'].iloc[x].month == 1 else None)\n",
    "df['fuel_cost'] = pd.Series(df.index).apply(lambda x: df['fuel_utilize'].iloc[x]\n",
    "                                            * 46672 if df['actual_departure'].iloc[x].month == 2 else df['fuel_cost'].iloc[x])\n",
    "df['fuel_cost'] = pd.Series(df.index).apply(lambda x: df['fuel_utilize'].iloc[x]\n",
    "                                            * 55579 if df['actual_departure'].iloc[x].month == 12 else df['fuel_cost'].iloc[x])\n",
    "df['profit']=df['sum_amount']-df['fuel_cost']  # и в конечном итоге добавим столбец разницы в затратах на топливо и собранных денег за полет\n",
    "df"
   ]
  },
  {
   "cell_type": "code",
   "execution_count": 4,
   "metadata": {
    "ExecuteTime": {
     "end_time": "2020-11-06T09:31:42.347228Z",
     "start_time": "2020-11-06T09:31:42.343233Z"
    }
   },
   "outputs": [],
   "source": [
    "'''определим массивы координат широты и долготы аэропортов прибытия'''\n",
    "t=df.iloc[:,6:12]\n",
    "lon=list(t['departure_longitude'].unique())\n",
    "lon2=list(t['arrival_longitude'].unique())\n",
    "lon.extend(lon2)\n",
    "lat=list(t['departure_latitude'].unique())\n",
    "lat2=list(t['arrival_latitude'].unique())\n",
    "lat.extend(lat2)\n",
    "lon3=[]\n",
    "lat3=[]\n",
    "for i,el in enumerate(lon):\n",
    "    if i>0:\n",
    "        lon3.append([lon[0],lon[i]])\n",
    "for i,el in enumerate(lat):\n",
    "    if i>0:\n",
    "        lat3.append([lat[0],lat[i]])\n",
    "names=['Moscow','Novokuznetsk','Belgorod']    # их всего 3 в датафрейме"
   ]
  },
  {
   "cell_type": "markdown",
   "metadata": {
    "ExecuteTime": {
     "end_time": "2020-11-05T13:23:30.966673Z",
     "start_time": "2020-11-05T13:23:30.964080Z"
    }
   },
   "source": [
    "визуализируем на карте"
   ]
  },
  {
   "cell_type": "code",
   "execution_count": 5,
   "metadata": {
    "ExecuteTime": {
     "end_time": "2020-11-06T09:31:45.111770Z",
     "start_time": "2020-11-06T09:31:45.095170Z"
    },
    "scrolled": false
   },
   "outputs": [
    {
     "data": {
      "application/vnd.plotly.v1+json": {
       "config": {
        "plotlyServerURL": "https://plot.ly"
       },
       "data": [
        {
         "lat": [
          45.002101898193,
          55.972599
         ],
         "lon": [
          37.347301483154,
          37.4146
         ],
         "marker": {
          "size": 10
         },
         "mode": "markers+lines",
         "name": "Moscow",
         "type": "scattermapbox"
        },
        {
         "lat": [
          45.002101898193,
          53.8114013671875
         ],
         "lon": [
          37.347301483154,
          86.877197265625
         ],
         "marker": {
          "size": 10
         },
         "mode": "markers+lines",
         "name": "Novokuznetsk",
         "type": "scattermapbox"
        },
        {
         "lat": [
          45.002101898193,
          50.643798828125
         ],
         "lon": [
          37.347301483154,
          36.5900993347168
         ],
         "marker": {
          "size": 10
         },
         "mode": "markers+lines",
         "name": "Belgorod",
         "type": "scattermapbox"
        }
       ],
       "layout": {
        "height": 1000,
        "mapbox": {
         "center": {
          "lat": 50,
          "lon": 57
         },
         "style": "stamen-terrain",
         "zoom": 4
        },
        "margin": {
         "b": 0,
         "l": 0,
         "r": 0,
         "t": 0
        },
        "template": {
         "data": {
          "bar": [
           {
            "error_x": {
             "color": "#2a3f5f"
            },
            "error_y": {
             "color": "#2a3f5f"
            },
            "marker": {
             "line": {
              "color": "#E5ECF6",
              "width": 0.5
             }
            },
            "type": "bar"
           }
          ],
          "barpolar": [
           {
            "marker": {
             "line": {
              "color": "#E5ECF6",
              "width": 0.5
             }
            },
            "type": "barpolar"
           }
          ],
          "carpet": [
           {
            "aaxis": {
             "endlinecolor": "#2a3f5f",
             "gridcolor": "white",
             "linecolor": "white",
             "minorgridcolor": "white",
             "startlinecolor": "#2a3f5f"
            },
            "baxis": {
             "endlinecolor": "#2a3f5f",
             "gridcolor": "white",
             "linecolor": "white",
             "minorgridcolor": "white",
             "startlinecolor": "#2a3f5f"
            },
            "type": "carpet"
           }
          ],
          "choropleth": [
           {
            "colorbar": {
             "outlinewidth": 0,
             "ticks": ""
            },
            "type": "choropleth"
           }
          ],
          "contour": [
           {
            "colorbar": {
             "outlinewidth": 0,
             "ticks": ""
            },
            "colorscale": [
             [
              0,
              "#0d0887"
             ],
             [
              0.1111111111111111,
              "#46039f"
             ],
             [
              0.2222222222222222,
              "#7201a8"
             ],
             [
              0.3333333333333333,
              "#9c179e"
             ],
             [
              0.4444444444444444,
              "#bd3786"
             ],
             [
              0.5555555555555556,
              "#d8576b"
             ],
             [
              0.6666666666666666,
              "#ed7953"
             ],
             [
              0.7777777777777778,
              "#fb9f3a"
             ],
             [
              0.8888888888888888,
              "#fdca26"
             ],
             [
              1,
              "#f0f921"
             ]
            ],
            "type": "contour"
           }
          ],
          "contourcarpet": [
           {
            "colorbar": {
             "outlinewidth": 0,
             "ticks": ""
            },
            "type": "contourcarpet"
           }
          ],
          "heatmap": [
           {
            "colorbar": {
             "outlinewidth": 0,
             "ticks": ""
            },
            "colorscale": [
             [
              0,
              "#0d0887"
             ],
             [
              0.1111111111111111,
              "#46039f"
             ],
             [
              0.2222222222222222,
              "#7201a8"
             ],
             [
              0.3333333333333333,
              "#9c179e"
             ],
             [
              0.4444444444444444,
              "#bd3786"
             ],
             [
              0.5555555555555556,
              "#d8576b"
             ],
             [
              0.6666666666666666,
              "#ed7953"
             ],
             [
              0.7777777777777778,
              "#fb9f3a"
             ],
             [
              0.8888888888888888,
              "#fdca26"
             ],
             [
              1,
              "#f0f921"
             ]
            ],
            "type": "heatmap"
           }
          ],
          "heatmapgl": [
           {
            "colorbar": {
             "outlinewidth": 0,
             "ticks": ""
            },
            "colorscale": [
             [
              0,
              "#0d0887"
             ],
             [
              0.1111111111111111,
              "#46039f"
             ],
             [
              0.2222222222222222,
              "#7201a8"
             ],
             [
              0.3333333333333333,
              "#9c179e"
             ],
             [
              0.4444444444444444,
              "#bd3786"
             ],
             [
              0.5555555555555556,
              "#d8576b"
             ],
             [
              0.6666666666666666,
              "#ed7953"
             ],
             [
              0.7777777777777778,
              "#fb9f3a"
             ],
             [
              0.8888888888888888,
              "#fdca26"
             ],
             [
              1,
              "#f0f921"
             ]
            ],
            "type": "heatmapgl"
           }
          ],
          "histogram": [
           {
            "marker": {
             "colorbar": {
              "outlinewidth": 0,
              "ticks": ""
             }
            },
            "type": "histogram"
           }
          ],
          "histogram2d": [
           {
            "colorbar": {
             "outlinewidth": 0,
             "ticks": ""
            },
            "colorscale": [
             [
              0,
              "#0d0887"
             ],
             [
              0.1111111111111111,
              "#46039f"
             ],
             [
              0.2222222222222222,
              "#7201a8"
             ],
             [
              0.3333333333333333,
              "#9c179e"
             ],
             [
              0.4444444444444444,
              "#bd3786"
             ],
             [
              0.5555555555555556,
              "#d8576b"
             ],
             [
              0.6666666666666666,
              "#ed7953"
             ],
             [
              0.7777777777777778,
              "#fb9f3a"
             ],
             [
              0.8888888888888888,
              "#fdca26"
             ],
             [
              1,
              "#f0f921"
             ]
            ],
            "type": "histogram2d"
           }
          ],
          "histogram2dcontour": [
           {
            "colorbar": {
             "outlinewidth": 0,
             "ticks": ""
            },
            "colorscale": [
             [
              0,
              "#0d0887"
             ],
             [
              0.1111111111111111,
              "#46039f"
             ],
             [
              0.2222222222222222,
              "#7201a8"
             ],
             [
              0.3333333333333333,
              "#9c179e"
             ],
             [
              0.4444444444444444,
              "#bd3786"
             ],
             [
              0.5555555555555556,
              "#d8576b"
             ],
             [
              0.6666666666666666,
              "#ed7953"
             ],
             [
              0.7777777777777778,
              "#fb9f3a"
             ],
             [
              0.8888888888888888,
              "#fdca26"
             ],
             [
              1,
              "#f0f921"
             ]
            ],
            "type": "histogram2dcontour"
           }
          ],
          "mesh3d": [
           {
            "colorbar": {
             "outlinewidth": 0,
             "ticks": ""
            },
            "type": "mesh3d"
           }
          ],
          "parcoords": [
           {
            "line": {
             "colorbar": {
              "outlinewidth": 0,
              "ticks": ""
             }
            },
            "type": "parcoords"
           }
          ],
          "pie": [
           {
            "automargin": true,
            "type": "pie"
           }
          ],
          "scatter": [
           {
            "marker": {
             "colorbar": {
              "outlinewidth": 0,
              "ticks": ""
             }
            },
            "type": "scatter"
           }
          ],
          "scatter3d": [
           {
            "line": {
             "colorbar": {
              "outlinewidth": 0,
              "ticks": ""
             }
            },
            "marker": {
             "colorbar": {
              "outlinewidth": 0,
              "ticks": ""
             }
            },
            "type": "scatter3d"
           }
          ],
          "scattercarpet": [
           {
            "marker": {
             "colorbar": {
              "outlinewidth": 0,
              "ticks": ""
             }
            },
            "type": "scattercarpet"
           }
          ],
          "scattergeo": [
           {
            "marker": {
             "colorbar": {
              "outlinewidth": 0,
              "ticks": ""
             }
            },
            "type": "scattergeo"
           }
          ],
          "scattergl": [
           {
            "marker": {
             "colorbar": {
              "outlinewidth": 0,
              "ticks": ""
             }
            },
            "type": "scattergl"
           }
          ],
          "scattermapbox": [
           {
            "marker": {
             "colorbar": {
              "outlinewidth": 0,
              "ticks": ""
             }
            },
            "type": "scattermapbox"
           }
          ],
          "scatterpolar": [
           {
            "marker": {
             "colorbar": {
              "outlinewidth": 0,
              "ticks": ""
             }
            },
            "type": "scatterpolar"
           }
          ],
          "scatterpolargl": [
           {
            "marker": {
             "colorbar": {
              "outlinewidth": 0,
              "ticks": ""
             }
            },
            "type": "scatterpolargl"
           }
          ],
          "scatterternary": [
           {
            "marker": {
             "colorbar": {
              "outlinewidth": 0,
              "ticks": ""
             }
            },
            "type": "scatterternary"
           }
          ],
          "surface": [
           {
            "colorbar": {
             "outlinewidth": 0,
             "ticks": ""
            },
            "colorscale": [
             [
              0,
              "#0d0887"
             ],
             [
              0.1111111111111111,
              "#46039f"
             ],
             [
              0.2222222222222222,
              "#7201a8"
             ],
             [
              0.3333333333333333,
              "#9c179e"
             ],
             [
              0.4444444444444444,
              "#bd3786"
             ],
             [
              0.5555555555555556,
              "#d8576b"
             ],
             [
              0.6666666666666666,
              "#ed7953"
             ],
             [
              0.7777777777777778,
              "#fb9f3a"
             ],
             [
              0.8888888888888888,
              "#fdca26"
             ],
             [
              1,
              "#f0f921"
             ]
            ],
            "type": "surface"
           }
          ],
          "table": [
           {
            "cells": {
             "fill": {
              "color": "#EBF0F8"
             },
             "line": {
              "color": "white"
             }
            },
            "header": {
             "fill": {
              "color": "#C8D4E3"
             },
             "line": {
              "color": "white"
             }
            },
            "type": "table"
           }
          ]
         },
         "layout": {
          "annotationdefaults": {
           "arrowcolor": "#2a3f5f",
           "arrowhead": 0,
           "arrowwidth": 1
          },
          "coloraxis": {
           "colorbar": {
            "outlinewidth": 0,
            "ticks": ""
           }
          },
          "colorscale": {
           "diverging": [
            [
             0,
             "#8e0152"
            ],
            [
             0.1,
             "#c51b7d"
            ],
            [
             0.2,
             "#de77ae"
            ],
            [
             0.3,
             "#f1b6da"
            ],
            [
             0.4,
             "#fde0ef"
            ],
            [
             0.5,
             "#f7f7f7"
            ],
            [
             0.6,
             "#e6f5d0"
            ],
            [
             0.7,
             "#b8e186"
            ],
            [
             0.8,
             "#7fbc41"
            ],
            [
             0.9,
             "#4d9221"
            ],
            [
             1,
             "#276419"
            ]
           ],
           "sequential": [
            [
             0,
             "#0d0887"
            ],
            [
             0.1111111111111111,
             "#46039f"
            ],
            [
             0.2222222222222222,
             "#7201a8"
            ],
            [
             0.3333333333333333,
             "#9c179e"
            ],
            [
             0.4444444444444444,
             "#bd3786"
            ],
            [
             0.5555555555555556,
             "#d8576b"
            ],
            [
             0.6666666666666666,
             "#ed7953"
            ],
            [
             0.7777777777777778,
             "#fb9f3a"
            ],
            [
             0.8888888888888888,
             "#fdca26"
            ],
            [
             1,
             "#f0f921"
            ]
           ],
           "sequentialminus": [
            [
             0,
             "#0d0887"
            ],
            [
             0.1111111111111111,
             "#46039f"
            ],
            [
             0.2222222222222222,
             "#7201a8"
            ],
            [
             0.3333333333333333,
             "#9c179e"
            ],
            [
             0.4444444444444444,
             "#bd3786"
            ],
            [
             0.5555555555555556,
             "#d8576b"
            ],
            [
             0.6666666666666666,
             "#ed7953"
            ],
            [
             0.7777777777777778,
             "#fb9f3a"
            ],
            [
             0.8888888888888888,
             "#fdca26"
            ],
            [
             1,
             "#f0f921"
            ]
           ]
          },
          "colorway": [
           "#636efa",
           "#EF553B",
           "#00cc96",
           "#ab63fa",
           "#FFA15A",
           "#19d3f3",
           "#FF6692",
           "#B6E880",
           "#FF97FF",
           "#FECB52"
          ],
          "font": {
           "color": "#2a3f5f"
          },
          "geo": {
           "bgcolor": "white",
           "lakecolor": "white",
           "landcolor": "#E5ECF6",
           "showlakes": true,
           "showland": true,
           "subunitcolor": "white"
          },
          "hoverlabel": {
           "align": "left"
          },
          "hovermode": "closest",
          "mapbox": {
           "style": "light"
          },
          "paper_bgcolor": "white",
          "plot_bgcolor": "#E5ECF6",
          "polar": {
           "angularaxis": {
            "gridcolor": "white",
            "linecolor": "white",
            "ticks": ""
           },
           "bgcolor": "#E5ECF6",
           "radialaxis": {
            "gridcolor": "white",
            "linecolor": "white",
            "ticks": ""
           }
          },
          "scene": {
           "xaxis": {
            "backgroundcolor": "#E5ECF6",
            "gridcolor": "white",
            "gridwidth": 2,
            "linecolor": "white",
            "showbackground": true,
            "ticks": "",
            "zerolinecolor": "white"
           },
           "yaxis": {
            "backgroundcolor": "#E5ECF6",
            "gridcolor": "white",
            "gridwidth": 2,
            "linecolor": "white",
            "showbackground": true,
            "ticks": "",
            "zerolinecolor": "white"
           },
           "zaxis": {
            "backgroundcolor": "#E5ECF6",
            "gridcolor": "white",
            "gridwidth": 2,
            "linecolor": "white",
            "showbackground": true,
            "ticks": "",
            "zerolinecolor": "white"
           }
          },
          "shapedefaults": {
           "line": {
            "color": "#2a3f5f"
           }
          },
          "ternary": {
           "aaxis": {
            "gridcolor": "white",
            "linecolor": "white",
            "ticks": ""
           },
           "baxis": {
            "gridcolor": "white",
            "linecolor": "white",
            "ticks": ""
           },
           "bgcolor": "#E5ECF6",
           "caxis": {
            "gridcolor": "white",
            "linecolor": "white",
            "ticks": ""
           }
          },
          "title": {
           "x": 0.05
          },
          "xaxis": {
           "automargin": true,
           "gridcolor": "white",
           "linecolor": "white",
           "ticks": "",
           "title": {
            "standoff": 15
           },
           "zerolinecolor": "white",
           "zerolinewidth": 2
          },
          "yaxis": {
           "automargin": true,
           "gridcolor": "white",
           "linecolor": "white",
           "ticks": "",
           "title": {
            "standoff": 15
           },
           "zerolinecolor": "white",
           "zerolinewidth": 2
          }
         }
        }
       }
      },
      "text/html": [
       "<div>                            <div id=\"cc367e74-ef4d-4568-9364-d932603fc9fc\" class=\"plotly-graph-div\" style=\"height:1000px; width:100%;\"></div>            <script type=\"text/javascript\">                require([\"plotly\"], function(Plotly) {                    window.PLOTLYENV=window.PLOTLYENV || {};                                    if (document.getElementById(\"cc367e74-ef4d-4568-9364-d932603fc9fc\")) {                    Plotly.newPlot(                        \"cc367e74-ef4d-4568-9364-d932603fc9fc\",                        [{\"lat\": [45.002101898193, 55.972599], \"lon\": [37.347301483154, 37.4146], \"marker\": {\"size\": 10}, \"mode\": \"markers+lines\", \"name\": \"Moscow\", \"type\": \"scattermapbox\"}, {\"lat\": [45.002101898193, 53.8114013671875], \"lon\": [37.347301483154, 86.877197265625], \"marker\": {\"size\": 10}, \"mode\": \"markers+lines\", \"name\": \"Novokuznetsk\", \"type\": \"scattermapbox\"}, {\"lat\": [45.002101898193, 50.643798828125], \"lon\": [37.347301483154, 36.5900993347168], \"marker\": {\"size\": 10}, \"mode\": \"markers+lines\", \"name\": \"Belgorod\", \"type\": \"scattermapbox\"}],                        {\"height\": 1000, \"mapbox\": {\"center\": {\"lat\": 50, \"lon\": 57}, \"style\": \"stamen-terrain\", \"zoom\": 4}, \"margin\": {\"b\": 0, \"l\": 0, \"r\": 0, \"t\": 0}, \"template\": {\"data\": {\"bar\": [{\"error_x\": {\"color\": \"#2a3f5f\"}, \"error_y\": {\"color\": \"#2a3f5f\"}, \"marker\": {\"line\": {\"color\": \"#E5ECF6\", \"width\": 0.5}}, \"type\": \"bar\"}], \"barpolar\": [{\"marker\": {\"line\": {\"color\": \"#E5ECF6\", \"width\": 0.5}}, \"type\": \"barpolar\"}], \"carpet\": [{\"aaxis\": {\"endlinecolor\": \"#2a3f5f\", \"gridcolor\": \"white\", \"linecolor\": \"white\", \"minorgridcolor\": \"white\", \"startlinecolor\": \"#2a3f5f\"}, \"baxis\": {\"endlinecolor\": \"#2a3f5f\", \"gridcolor\": \"white\", \"linecolor\": \"white\", \"minorgridcolor\": \"white\", \"startlinecolor\": \"#2a3f5f\"}, \"type\": \"carpet\"}], \"choropleth\": [{\"colorbar\": {\"outlinewidth\": 0, \"ticks\": \"\"}, \"type\": \"choropleth\"}], \"contour\": [{\"colorbar\": {\"outlinewidth\": 0, \"ticks\": \"\"}, \"colorscale\": [[0.0, \"#0d0887\"], [0.1111111111111111, \"#46039f\"], [0.2222222222222222, \"#7201a8\"], [0.3333333333333333, \"#9c179e\"], [0.4444444444444444, \"#bd3786\"], [0.5555555555555556, \"#d8576b\"], [0.6666666666666666, \"#ed7953\"], [0.7777777777777778, \"#fb9f3a\"], [0.8888888888888888, \"#fdca26\"], [1.0, \"#f0f921\"]], \"type\": \"contour\"}], \"contourcarpet\": [{\"colorbar\": {\"outlinewidth\": 0, \"ticks\": \"\"}, \"type\": \"contourcarpet\"}], \"heatmap\": [{\"colorbar\": {\"outlinewidth\": 0, \"ticks\": \"\"}, \"colorscale\": [[0.0, \"#0d0887\"], [0.1111111111111111, \"#46039f\"], [0.2222222222222222, \"#7201a8\"], [0.3333333333333333, \"#9c179e\"], [0.4444444444444444, \"#bd3786\"], [0.5555555555555556, \"#d8576b\"], [0.6666666666666666, \"#ed7953\"], [0.7777777777777778, \"#fb9f3a\"], [0.8888888888888888, \"#fdca26\"], [1.0, \"#f0f921\"]], \"type\": \"heatmap\"}], \"heatmapgl\": [{\"colorbar\": {\"outlinewidth\": 0, \"ticks\": \"\"}, \"colorscale\": [[0.0, \"#0d0887\"], [0.1111111111111111, \"#46039f\"], [0.2222222222222222, \"#7201a8\"], [0.3333333333333333, \"#9c179e\"], [0.4444444444444444, \"#bd3786\"], [0.5555555555555556, \"#d8576b\"], [0.6666666666666666, \"#ed7953\"], [0.7777777777777778, \"#fb9f3a\"], [0.8888888888888888, \"#fdca26\"], [1.0, \"#f0f921\"]], \"type\": \"heatmapgl\"}], \"histogram\": [{\"marker\": {\"colorbar\": {\"outlinewidth\": 0, \"ticks\": \"\"}}, \"type\": \"histogram\"}], \"histogram2d\": [{\"colorbar\": {\"outlinewidth\": 0, \"ticks\": \"\"}, \"colorscale\": [[0.0, \"#0d0887\"], [0.1111111111111111, \"#46039f\"], [0.2222222222222222, \"#7201a8\"], [0.3333333333333333, \"#9c179e\"], [0.4444444444444444, \"#bd3786\"], [0.5555555555555556, \"#d8576b\"], [0.6666666666666666, \"#ed7953\"], [0.7777777777777778, \"#fb9f3a\"], [0.8888888888888888, \"#fdca26\"], [1.0, \"#f0f921\"]], \"type\": \"histogram2d\"}], \"histogram2dcontour\": [{\"colorbar\": {\"outlinewidth\": 0, \"ticks\": \"\"}, \"colorscale\": [[0.0, \"#0d0887\"], [0.1111111111111111, \"#46039f\"], [0.2222222222222222, \"#7201a8\"], [0.3333333333333333, \"#9c179e\"], [0.4444444444444444, \"#bd3786\"], [0.5555555555555556, \"#d8576b\"], [0.6666666666666666, \"#ed7953\"], [0.7777777777777778, \"#fb9f3a\"], [0.8888888888888888, \"#fdca26\"], [1.0, \"#f0f921\"]], \"type\": \"histogram2dcontour\"}], \"mesh3d\": [{\"colorbar\": {\"outlinewidth\": 0, \"ticks\": \"\"}, \"type\": \"mesh3d\"}], \"parcoords\": [{\"line\": {\"colorbar\": {\"outlinewidth\": 0, \"ticks\": \"\"}}, \"type\": \"parcoords\"}], \"pie\": [{\"automargin\": true, \"type\": \"pie\"}], \"scatter\": [{\"marker\": {\"colorbar\": {\"outlinewidth\": 0, \"ticks\": \"\"}}, \"type\": \"scatter\"}], \"scatter3d\": [{\"line\": {\"colorbar\": {\"outlinewidth\": 0, \"ticks\": \"\"}}, \"marker\": {\"colorbar\": {\"outlinewidth\": 0, \"ticks\": \"\"}}, \"type\": \"scatter3d\"}], \"scattercarpet\": [{\"marker\": {\"colorbar\": {\"outlinewidth\": 0, \"ticks\": \"\"}}, \"type\": \"scattercarpet\"}], \"scattergeo\": [{\"marker\": {\"colorbar\": {\"outlinewidth\": 0, \"ticks\": \"\"}}, \"type\": \"scattergeo\"}], \"scattergl\": [{\"marker\": {\"colorbar\": {\"outlinewidth\": 0, \"ticks\": \"\"}}, \"type\": \"scattergl\"}], \"scattermapbox\": [{\"marker\": {\"colorbar\": {\"outlinewidth\": 0, \"ticks\": \"\"}}, \"type\": \"scattermapbox\"}], \"scatterpolar\": [{\"marker\": {\"colorbar\": {\"outlinewidth\": 0, \"ticks\": \"\"}}, \"type\": \"scatterpolar\"}], \"scatterpolargl\": [{\"marker\": {\"colorbar\": {\"outlinewidth\": 0, \"ticks\": \"\"}}, \"type\": \"scatterpolargl\"}], \"scatterternary\": [{\"marker\": {\"colorbar\": {\"outlinewidth\": 0, \"ticks\": \"\"}}, \"type\": \"scatterternary\"}], \"surface\": [{\"colorbar\": {\"outlinewidth\": 0, \"ticks\": \"\"}, \"colorscale\": [[0.0, \"#0d0887\"], [0.1111111111111111, \"#46039f\"], [0.2222222222222222, \"#7201a8\"], [0.3333333333333333, \"#9c179e\"], [0.4444444444444444, \"#bd3786\"], [0.5555555555555556, \"#d8576b\"], [0.6666666666666666, \"#ed7953\"], [0.7777777777777778, \"#fb9f3a\"], [0.8888888888888888, \"#fdca26\"], [1.0, \"#f0f921\"]], \"type\": \"surface\"}], \"table\": [{\"cells\": {\"fill\": {\"color\": \"#EBF0F8\"}, \"line\": {\"color\": \"white\"}}, \"header\": {\"fill\": {\"color\": \"#C8D4E3\"}, \"line\": {\"color\": \"white\"}}, \"type\": \"table\"}]}, \"layout\": {\"annotationdefaults\": {\"arrowcolor\": \"#2a3f5f\", \"arrowhead\": 0, \"arrowwidth\": 1}, \"coloraxis\": {\"colorbar\": {\"outlinewidth\": 0, \"ticks\": \"\"}}, \"colorscale\": {\"diverging\": [[0, \"#8e0152\"], [0.1, \"#c51b7d\"], [0.2, \"#de77ae\"], [0.3, \"#f1b6da\"], [0.4, \"#fde0ef\"], [0.5, \"#f7f7f7\"], [0.6, \"#e6f5d0\"], [0.7, \"#b8e186\"], [0.8, \"#7fbc41\"], [0.9, \"#4d9221\"], [1, \"#276419\"]], \"sequential\": [[0.0, \"#0d0887\"], [0.1111111111111111, \"#46039f\"], [0.2222222222222222, \"#7201a8\"], [0.3333333333333333, \"#9c179e\"], [0.4444444444444444, \"#bd3786\"], [0.5555555555555556, \"#d8576b\"], [0.6666666666666666, \"#ed7953\"], [0.7777777777777778, \"#fb9f3a\"], [0.8888888888888888, \"#fdca26\"], [1.0, \"#f0f921\"]], \"sequentialminus\": [[0.0, \"#0d0887\"], [0.1111111111111111, \"#46039f\"], [0.2222222222222222, \"#7201a8\"], [0.3333333333333333, \"#9c179e\"], [0.4444444444444444, \"#bd3786\"], [0.5555555555555556, \"#d8576b\"], [0.6666666666666666, \"#ed7953\"], [0.7777777777777778, \"#fb9f3a\"], [0.8888888888888888, \"#fdca26\"], [1.0, \"#f0f921\"]]}, \"colorway\": [\"#636efa\", \"#EF553B\", \"#00cc96\", \"#ab63fa\", \"#FFA15A\", \"#19d3f3\", \"#FF6692\", \"#B6E880\", \"#FF97FF\", \"#FECB52\"], \"font\": {\"color\": \"#2a3f5f\"}, \"geo\": {\"bgcolor\": \"white\", \"lakecolor\": \"white\", \"landcolor\": \"#E5ECF6\", \"showlakes\": true, \"showland\": true, \"subunitcolor\": \"white\"}, \"hoverlabel\": {\"align\": \"left\"}, \"hovermode\": \"closest\", \"mapbox\": {\"style\": \"light\"}, \"paper_bgcolor\": \"white\", \"plot_bgcolor\": \"#E5ECF6\", \"polar\": {\"angularaxis\": {\"gridcolor\": \"white\", \"linecolor\": \"white\", \"ticks\": \"\"}, \"bgcolor\": \"#E5ECF6\", \"radialaxis\": {\"gridcolor\": \"white\", \"linecolor\": \"white\", \"ticks\": \"\"}}, \"scene\": {\"xaxis\": {\"backgroundcolor\": \"#E5ECF6\", \"gridcolor\": \"white\", \"gridwidth\": 2, \"linecolor\": \"white\", \"showbackground\": true, \"ticks\": \"\", \"zerolinecolor\": \"white\"}, \"yaxis\": {\"backgroundcolor\": \"#E5ECF6\", \"gridcolor\": \"white\", \"gridwidth\": 2, \"linecolor\": \"white\", \"showbackground\": true, \"ticks\": \"\", \"zerolinecolor\": \"white\"}, \"zaxis\": {\"backgroundcolor\": \"#E5ECF6\", \"gridcolor\": \"white\", \"gridwidth\": 2, \"linecolor\": \"white\", \"showbackground\": true, \"ticks\": \"\", \"zerolinecolor\": \"white\"}}, \"shapedefaults\": {\"line\": {\"color\": \"#2a3f5f\"}}, \"ternary\": {\"aaxis\": {\"gridcolor\": \"white\", \"linecolor\": \"white\", \"ticks\": \"\"}, \"baxis\": {\"gridcolor\": \"white\", \"linecolor\": \"white\", \"ticks\": \"\"}, \"bgcolor\": \"#E5ECF6\", \"caxis\": {\"gridcolor\": \"white\", \"linecolor\": \"white\", \"ticks\": \"\"}}, \"title\": {\"x\": 0.05}, \"xaxis\": {\"automargin\": true, \"gridcolor\": \"white\", \"linecolor\": \"white\", \"ticks\": \"\", \"title\": {\"standoff\": 15}, \"zerolinecolor\": \"white\", \"zerolinewidth\": 2}, \"yaxis\": {\"automargin\": true, \"gridcolor\": \"white\", \"linecolor\": \"white\", \"ticks\": \"\", \"title\": {\"standoff\": 15}, \"zerolinecolor\": \"white\", \"zerolinewidth\": 2}}}},                        {\"responsive\": true}                    ).then(function(){\n",
       "                            \n",
       "var gd = document.getElementById('cc367e74-ef4d-4568-9364-d932603fc9fc');\n",
       "var x = new MutationObserver(function (mutations, observer) {{\n",
       "        var display = window.getComputedStyle(gd).display;\n",
       "        if (!display || display === 'none') {{\n",
       "            console.log([gd, 'removed!']);\n",
       "            Plotly.purge(gd);\n",
       "            observer.disconnect();\n",
       "        }}\n",
       "}});\n",
       "\n",
       "// Listen for the removal of the full notebook cells\n",
       "var notebookContainer = gd.closest('#notebook-container');\n",
       "if (notebookContainer) {{\n",
       "    x.observe(notebookContainer, {childList: true});\n",
       "}}\n",
       "\n",
       "// Listen for the clearing of the current output cell\n",
       "var outputEl = gd.closest('.output');\n",
       "if (outputEl) {{\n",
       "    x.observe(outputEl, {childList: true});\n",
       "}}\n",
       "\n",
       "                        })                };                });            </script>        </div>"
      ]
     },
     "metadata": {},
     "output_type": "display_data"
    }
   ],
   "source": [
    "fig = go.Figure(go.Scattermapbox(\n",
    "    mode = \"markers+lines\",\n",
    "    lon = lon3[0],\n",
    "    lat = lat3[0],\n",
    "    name=names[0],\n",
    "    marker = {'size': 10}))\n",
    "for i ,el in enumerate(lon3):\n",
    "    if i>0:\n",
    "        fig.add_trace(go.Scattermapbox(\n",
    "            mode = \"markers+lines\",\n",
    "            lon = lon3[i],\n",
    "            lat = lat3[i],\n",
    "            name=names[i],\n",
    "            marker = {'size': 10}))\n",
    "fig.update_layout(height=1000,\n",
    "    margin ={'l':0,'t':0,'b':0,'r':0},\n",
    "    mapbox = {\n",
    "        'center': {'lon': 57, 'lat': 50},\n",
    "        'style': \"stamen-terrain\",\n",
    "        'center': {'lon': 57, 'lat': 50},\n",
    "        'zoom': 4})\n",
    "\n",
    "fig.show()"
   ]
  },
  {
   "cell_type": "markdown",
   "metadata": {},
   "source": [
    "Визуализируем профит по городам"
   ]
  },
  {
   "cell_type": "code",
   "execution_count": 6,
   "metadata": {
    "ExecuteTime": {
     "end_time": "2020-11-06T09:31:49.563852Z",
     "start_time": "2020-11-06T09:31:49.550954Z"
    }
   },
   "outputs": [
    {
     "data": {
      "application/vnd.plotly.v1+json": {
       "config": {
        "plotlyServerURL": "https://plot.ly"
       },
       "data": [
        {
         "name": "Moscow",
         "type": "box",
         "xaxis": "x",
         "y": [
          1455472.28,
          1420578.8800000001,
          1235428,
          1371778.8800000001,
          1619183.72,
          1529178.8800000001,
          1491912,
          1417512,
          1508939.44,
          1544783.72,
          1379045.12,
          1423983.72,
          1240983.72,
          1495983.72,
          1318560.84,
          1296116.56,
          1271112,
          1419628,
          1477312,
          1690428,
          1617645.76,
          1219245.12,
          1504112,
          1379712,
          1487645.12,
          1418712,
          1443778.8800000001,
          1633339.44,
          1321272.28,
          1488845.12,
          1495983.72,
          1458628,
          1690428,
          1357712,
          1379045.12,
          1322028,
          1576112,
          1368712,
          1268712,
          1333783.72,
          1293716.56,
          1581383.72,
          1678228,
          1687112,
          1404112,
          1350339.44,
          1653828,
          1484983.72,
          1617983.72,
          1515112,
          1650512,
          1416312,
          1375183.72,
          1594783.72,
          1202428,
          1567228,
          1553578.8800000001,
          1324428,
          1316845.12
         ],
         "yaxis": "y"
        },
        {
         "name": "Novokuznetsk",
         "type": "box",
         "xaxis": "x2",
         "y": [
          null,
          null,
          null,
          null,
          null,
          null,
          null,
          null,
          null
         ],
         "yaxis": "y2"
        },
        {
         "name": "Belgorod",
         "type": "box",
         "xaxis": "x3",
         "y": [
          683434.9166666666,
          689734.9166666666,
          699181.3333333334,
          697858.96,
          570034.9166666666,
          680281.3333333334,
          548703.7066666667,
          680281.3333333334,
          643649.615,
          463120.2183333333,
          562349.615,
          689734.9166666666,
          691120.2183333334,
          612303.7066666667,
          689734.9166666666,
          598381.3333333334,
          682049.615,
          692881.3333333334,
          561934.9166666666,
          670834.9166666666,
          620434.9166666666,
          683434.9166666666,
          626134.9166666666,
          675749.615,
          656403.7066666667,
          696034.9166666666,
          697420.2183333334,
          697420.2183333334,
          580649.615,
          628558.96,
          692881.3333333334,
          648781.3333333334,
          696034.9166666666,
          680281.3333333334,
          464881.3333333333,
          697858.96,
          689734.9166666666,
          552958.96,
          697858.96,
          599549.615,
          697858.96,
          508981.3333333333,
          633034.9166666666,
          699181.3333333334,
          624303.7066666667,
          696034.9166666666,
          696034.9166666666,
          699181.3333333334,
          527320.2183333334,
          559981.3333333334,
          697858.96,
          688349.615,
          541681.3333333334,
          694649.615,
          563134.9166666666,
          556834.9166666666,
          655803.7066666667,
          699181.3333333334,
          680281.3333333334
         ],
         "yaxis": "y3"
        }
       ],
       "layout": {
        "template": {
         "data": {
          "bar": [
           {
            "error_x": {
             "color": "#2a3f5f"
            },
            "error_y": {
             "color": "#2a3f5f"
            },
            "marker": {
             "line": {
              "color": "#E5ECF6",
              "width": 0.5
             }
            },
            "type": "bar"
           }
          ],
          "barpolar": [
           {
            "marker": {
             "line": {
              "color": "#E5ECF6",
              "width": 0.5
             }
            },
            "type": "barpolar"
           }
          ],
          "carpet": [
           {
            "aaxis": {
             "endlinecolor": "#2a3f5f",
             "gridcolor": "white",
             "linecolor": "white",
             "minorgridcolor": "white",
             "startlinecolor": "#2a3f5f"
            },
            "baxis": {
             "endlinecolor": "#2a3f5f",
             "gridcolor": "white",
             "linecolor": "white",
             "minorgridcolor": "white",
             "startlinecolor": "#2a3f5f"
            },
            "type": "carpet"
           }
          ],
          "choropleth": [
           {
            "colorbar": {
             "outlinewidth": 0,
             "ticks": ""
            },
            "type": "choropleth"
           }
          ],
          "contour": [
           {
            "colorbar": {
             "outlinewidth": 0,
             "ticks": ""
            },
            "colorscale": [
             [
              0,
              "#0d0887"
             ],
             [
              0.1111111111111111,
              "#46039f"
             ],
             [
              0.2222222222222222,
              "#7201a8"
             ],
             [
              0.3333333333333333,
              "#9c179e"
             ],
             [
              0.4444444444444444,
              "#bd3786"
             ],
             [
              0.5555555555555556,
              "#d8576b"
             ],
             [
              0.6666666666666666,
              "#ed7953"
             ],
             [
              0.7777777777777778,
              "#fb9f3a"
             ],
             [
              0.8888888888888888,
              "#fdca26"
             ],
             [
              1,
              "#f0f921"
             ]
            ],
            "type": "contour"
           }
          ],
          "contourcarpet": [
           {
            "colorbar": {
             "outlinewidth": 0,
             "ticks": ""
            },
            "type": "contourcarpet"
           }
          ],
          "heatmap": [
           {
            "colorbar": {
             "outlinewidth": 0,
             "ticks": ""
            },
            "colorscale": [
             [
              0,
              "#0d0887"
             ],
             [
              0.1111111111111111,
              "#46039f"
             ],
             [
              0.2222222222222222,
              "#7201a8"
             ],
             [
              0.3333333333333333,
              "#9c179e"
             ],
             [
              0.4444444444444444,
              "#bd3786"
             ],
             [
              0.5555555555555556,
              "#d8576b"
             ],
             [
              0.6666666666666666,
              "#ed7953"
             ],
             [
              0.7777777777777778,
              "#fb9f3a"
             ],
             [
              0.8888888888888888,
              "#fdca26"
             ],
             [
              1,
              "#f0f921"
             ]
            ],
            "type": "heatmap"
           }
          ],
          "heatmapgl": [
           {
            "colorbar": {
             "outlinewidth": 0,
             "ticks": ""
            },
            "colorscale": [
             [
              0,
              "#0d0887"
             ],
             [
              0.1111111111111111,
              "#46039f"
             ],
             [
              0.2222222222222222,
              "#7201a8"
             ],
             [
              0.3333333333333333,
              "#9c179e"
             ],
             [
              0.4444444444444444,
              "#bd3786"
             ],
             [
              0.5555555555555556,
              "#d8576b"
             ],
             [
              0.6666666666666666,
              "#ed7953"
             ],
             [
              0.7777777777777778,
              "#fb9f3a"
             ],
             [
              0.8888888888888888,
              "#fdca26"
             ],
             [
              1,
              "#f0f921"
             ]
            ],
            "type": "heatmapgl"
           }
          ],
          "histogram": [
           {
            "marker": {
             "colorbar": {
              "outlinewidth": 0,
              "ticks": ""
             }
            },
            "type": "histogram"
           }
          ],
          "histogram2d": [
           {
            "colorbar": {
             "outlinewidth": 0,
             "ticks": ""
            },
            "colorscale": [
             [
              0,
              "#0d0887"
             ],
             [
              0.1111111111111111,
              "#46039f"
             ],
             [
              0.2222222222222222,
              "#7201a8"
             ],
             [
              0.3333333333333333,
              "#9c179e"
             ],
             [
              0.4444444444444444,
              "#bd3786"
             ],
             [
              0.5555555555555556,
              "#d8576b"
             ],
             [
              0.6666666666666666,
              "#ed7953"
             ],
             [
              0.7777777777777778,
              "#fb9f3a"
             ],
             [
              0.8888888888888888,
              "#fdca26"
             ],
             [
              1,
              "#f0f921"
             ]
            ],
            "type": "histogram2d"
           }
          ],
          "histogram2dcontour": [
           {
            "colorbar": {
             "outlinewidth": 0,
             "ticks": ""
            },
            "colorscale": [
             [
              0,
              "#0d0887"
             ],
             [
              0.1111111111111111,
              "#46039f"
             ],
             [
              0.2222222222222222,
              "#7201a8"
             ],
             [
              0.3333333333333333,
              "#9c179e"
             ],
             [
              0.4444444444444444,
              "#bd3786"
             ],
             [
              0.5555555555555556,
              "#d8576b"
             ],
             [
              0.6666666666666666,
              "#ed7953"
             ],
             [
              0.7777777777777778,
              "#fb9f3a"
             ],
             [
              0.8888888888888888,
              "#fdca26"
             ],
             [
              1,
              "#f0f921"
             ]
            ],
            "type": "histogram2dcontour"
           }
          ],
          "mesh3d": [
           {
            "colorbar": {
             "outlinewidth": 0,
             "ticks": ""
            },
            "type": "mesh3d"
           }
          ],
          "parcoords": [
           {
            "line": {
             "colorbar": {
              "outlinewidth": 0,
              "ticks": ""
             }
            },
            "type": "parcoords"
           }
          ],
          "pie": [
           {
            "automargin": true,
            "type": "pie"
           }
          ],
          "scatter": [
           {
            "marker": {
             "colorbar": {
              "outlinewidth": 0,
              "ticks": ""
             }
            },
            "type": "scatter"
           }
          ],
          "scatter3d": [
           {
            "line": {
             "colorbar": {
              "outlinewidth": 0,
              "ticks": ""
             }
            },
            "marker": {
             "colorbar": {
              "outlinewidth": 0,
              "ticks": ""
             }
            },
            "type": "scatter3d"
           }
          ],
          "scattercarpet": [
           {
            "marker": {
             "colorbar": {
              "outlinewidth": 0,
              "ticks": ""
             }
            },
            "type": "scattercarpet"
           }
          ],
          "scattergeo": [
           {
            "marker": {
             "colorbar": {
              "outlinewidth": 0,
              "ticks": ""
             }
            },
            "type": "scattergeo"
           }
          ],
          "scattergl": [
           {
            "marker": {
             "colorbar": {
              "outlinewidth": 0,
              "ticks": ""
             }
            },
            "type": "scattergl"
           }
          ],
          "scattermapbox": [
           {
            "marker": {
             "colorbar": {
              "outlinewidth": 0,
              "ticks": ""
             }
            },
            "type": "scattermapbox"
           }
          ],
          "scatterpolar": [
           {
            "marker": {
             "colorbar": {
              "outlinewidth": 0,
              "ticks": ""
             }
            },
            "type": "scatterpolar"
           }
          ],
          "scatterpolargl": [
           {
            "marker": {
             "colorbar": {
              "outlinewidth": 0,
              "ticks": ""
             }
            },
            "type": "scatterpolargl"
           }
          ],
          "scatterternary": [
           {
            "marker": {
             "colorbar": {
              "outlinewidth": 0,
              "ticks": ""
             }
            },
            "type": "scatterternary"
           }
          ],
          "surface": [
           {
            "colorbar": {
             "outlinewidth": 0,
             "ticks": ""
            },
            "colorscale": [
             [
              0,
              "#0d0887"
             ],
             [
              0.1111111111111111,
              "#46039f"
             ],
             [
              0.2222222222222222,
              "#7201a8"
             ],
             [
              0.3333333333333333,
              "#9c179e"
             ],
             [
              0.4444444444444444,
              "#bd3786"
             ],
             [
              0.5555555555555556,
              "#d8576b"
             ],
             [
              0.6666666666666666,
              "#ed7953"
             ],
             [
              0.7777777777777778,
              "#fb9f3a"
             ],
             [
              0.8888888888888888,
              "#fdca26"
             ],
             [
              1,
              "#f0f921"
             ]
            ],
            "type": "surface"
           }
          ],
          "table": [
           {
            "cells": {
             "fill": {
              "color": "#EBF0F8"
             },
             "line": {
              "color": "white"
             }
            },
            "header": {
             "fill": {
              "color": "#C8D4E3"
             },
             "line": {
              "color": "white"
             }
            },
            "type": "table"
           }
          ]
         },
         "layout": {
          "annotationdefaults": {
           "arrowcolor": "#2a3f5f",
           "arrowhead": 0,
           "arrowwidth": 1
          },
          "coloraxis": {
           "colorbar": {
            "outlinewidth": 0,
            "ticks": ""
           }
          },
          "colorscale": {
           "diverging": [
            [
             0,
             "#8e0152"
            ],
            [
             0.1,
             "#c51b7d"
            ],
            [
             0.2,
             "#de77ae"
            ],
            [
             0.3,
             "#f1b6da"
            ],
            [
             0.4,
             "#fde0ef"
            ],
            [
             0.5,
             "#f7f7f7"
            ],
            [
             0.6,
             "#e6f5d0"
            ],
            [
             0.7,
             "#b8e186"
            ],
            [
             0.8,
             "#7fbc41"
            ],
            [
             0.9,
             "#4d9221"
            ],
            [
             1,
             "#276419"
            ]
           ],
           "sequential": [
            [
             0,
             "#0d0887"
            ],
            [
             0.1111111111111111,
             "#46039f"
            ],
            [
             0.2222222222222222,
             "#7201a8"
            ],
            [
             0.3333333333333333,
             "#9c179e"
            ],
            [
             0.4444444444444444,
             "#bd3786"
            ],
            [
             0.5555555555555556,
             "#d8576b"
            ],
            [
             0.6666666666666666,
             "#ed7953"
            ],
            [
             0.7777777777777778,
             "#fb9f3a"
            ],
            [
             0.8888888888888888,
             "#fdca26"
            ],
            [
             1,
             "#f0f921"
            ]
           ],
           "sequentialminus": [
            [
             0,
             "#0d0887"
            ],
            [
             0.1111111111111111,
             "#46039f"
            ],
            [
             0.2222222222222222,
             "#7201a8"
            ],
            [
             0.3333333333333333,
             "#9c179e"
            ],
            [
             0.4444444444444444,
             "#bd3786"
            ],
            [
             0.5555555555555556,
             "#d8576b"
            ],
            [
             0.6666666666666666,
             "#ed7953"
            ],
            [
             0.7777777777777778,
             "#fb9f3a"
            ],
            [
             0.8888888888888888,
             "#fdca26"
            ],
            [
             1,
             "#f0f921"
            ]
           ]
          },
          "colorway": [
           "#636efa",
           "#EF553B",
           "#00cc96",
           "#ab63fa",
           "#FFA15A",
           "#19d3f3",
           "#FF6692",
           "#B6E880",
           "#FF97FF",
           "#FECB52"
          ],
          "font": {
           "color": "#2a3f5f"
          },
          "geo": {
           "bgcolor": "white",
           "lakecolor": "white",
           "landcolor": "#E5ECF6",
           "showlakes": true,
           "showland": true,
           "subunitcolor": "white"
          },
          "hoverlabel": {
           "align": "left"
          },
          "hovermode": "closest",
          "mapbox": {
           "style": "light"
          },
          "paper_bgcolor": "white",
          "plot_bgcolor": "#E5ECF6",
          "polar": {
           "angularaxis": {
            "gridcolor": "white",
            "linecolor": "white",
            "ticks": ""
           },
           "bgcolor": "#E5ECF6",
           "radialaxis": {
            "gridcolor": "white",
            "linecolor": "white",
            "ticks": ""
           }
          },
          "scene": {
           "xaxis": {
            "backgroundcolor": "#E5ECF6",
            "gridcolor": "white",
            "gridwidth": 2,
            "linecolor": "white",
            "showbackground": true,
            "ticks": "",
            "zerolinecolor": "white"
           },
           "yaxis": {
            "backgroundcolor": "#E5ECF6",
            "gridcolor": "white",
            "gridwidth": 2,
            "linecolor": "white",
            "showbackground": true,
            "ticks": "",
            "zerolinecolor": "white"
           },
           "zaxis": {
            "backgroundcolor": "#E5ECF6",
            "gridcolor": "white",
            "gridwidth": 2,
            "linecolor": "white",
            "showbackground": true,
            "ticks": "",
            "zerolinecolor": "white"
           }
          },
          "shapedefaults": {
           "line": {
            "color": "#2a3f5f"
           }
          },
          "ternary": {
           "aaxis": {
            "gridcolor": "white",
            "linecolor": "white",
            "ticks": ""
           },
           "baxis": {
            "gridcolor": "white",
            "linecolor": "white",
            "ticks": ""
           },
           "bgcolor": "#E5ECF6",
           "caxis": {
            "gridcolor": "white",
            "linecolor": "white",
            "ticks": ""
           }
          },
          "title": {
           "x": 0.05
          },
          "xaxis": {
           "automargin": true,
           "gridcolor": "white",
           "linecolor": "white",
           "ticks": "",
           "title": {
            "standoff": 15
           },
           "zerolinecolor": "white",
           "zerolinewidth": 2
          },
          "yaxis": {
           "automargin": true,
           "gridcolor": "white",
           "linecolor": "white",
           "ticks": "",
           "title": {
            "standoff": 15
           },
           "zerolinecolor": "white",
           "zerolinewidth": 2
          }
         }
        },
        "xaxis": {
         "anchor": "y",
         "domain": [
          0,
          0.2888888888888889
         ]
        },
        "xaxis2": {
         "anchor": "y2",
         "domain": [
          0.35555555555555557,
          0.6444444444444445
         ]
        },
        "xaxis3": {
         "anchor": "y3",
         "domain": [
          0.7111111111111111,
          1
         ]
        },
        "yaxis": {
         "anchor": "x",
         "domain": [
          0,
          1
         ]
        },
        "yaxis2": {
         "anchor": "x2",
         "domain": [
          0,
          1
         ]
        },
        "yaxis3": {
         "anchor": "x3",
         "domain": [
          0,
          1
         ]
        }
       }
      },
      "text/html": [
       "<div>                            <div id=\"5c4691ee-028b-431c-8a5c-57f25e30b1f2\" class=\"plotly-graph-div\" style=\"height:525px; width:100%;\"></div>            <script type=\"text/javascript\">                require([\"plotly\"], function(Plotly) {                    window.PLOTLYENV=window.PLOTLYENV || {};                                    if (document.getElementById(\"5c4691ee-028b-431c-8a5c-57f25e30b1f2\")) {                    Plotly.newPlot(                        \"5c4691ee-028b-431c-8a5c-57f25e30b1f2\",                        [{\"name\": \"Moscow\", \"type\": \"box\", \"xaxis\": \"x\", \"y\": [1455472.28, 1420578.8800000001, 1235428.0, 1371778.8800000001, 1619183.72, 1529178.8800000001, 1491912.0, 1417512.0, 1508939.44, 1544783.72, 1379045.12, 1423983.72, 1240983.72, 1495983.72, 1318560.84, 1296116.56, 1271112.0, 1419628.0, 1477312.0, 1690428.0, 1617645.76, 1219245.12, 1504112.0, 1379712.0, 1487645.12, 1418712.0, 1443778.8800000001, 1633339.44, 1321272.28, 1488845.12, 1495983.72, 1458628.0, 1690428.0, 1357712.0, 1379045.12, 1322028.0, 1576112.0, 1368712.0, 1268712.0, 1333783.72, 1293716.56, 1581383.72, 1678228.0, 1687112.0, 1404112.0, 1350339.44, 1653828.0, 1484983.72, 1617983.72, 1515112.0, 1650512.0, 1416312.0, 1375183.72, 1594783.72, 1202428.0, 1567228.0, 1553578.8800000001, 1324428.0, 1316845.12], \"yaxis\": \"y\"}, {\"name\": \"Novokuznetsk\", \"type\": \"box\", \"xaxis\": \"x2\", \"y\": [null, null, null, null, null, null, null, null, null], \"yaxis\": \"y2\"}, {\"name\": \"Belgorod\", \"type\": \"box\", \"xaxis\": \"x3\", \"y\": [683434.9166666666, 689734.9166666666, 699181.3333333334, 697858.96, 570034.9166666666, 680281.3333333334, 548703.7066666667, 680281.3333333334, 643649.615, 463120.2183333333, 562349.615, 689734.9166666666, 691120.2183333334, 612303.7066666667, 689734.9166666666, 598381.3333333334, 682049.615, 692881.3333333334, 561934.9166666666, 670834.9166666666, 620434.9166666666, 683434.9166666666, 626134.9166666666, 675749.615, 656403.7066666667, 696034.9166666666, 697420.2183333334, 697420.2183333334, 580649.615, 628558.96, 692881.3333333334, 648781.3333333334, 696034.9166666666, 680281.3333333334, 464881.3333333333, 697858.96, 689734.9166666666, 552958.96, 697858.96, 599549.615, 697858.96, 508981.3333333333, 633034.9166666666, 699181.3333333334, 624303.7066666667, 696034.9166666666, 696034.9166666666, 699181.3333333334, 527320.2183333334, 559981.3333333334, 697858.96, 688349.615, 541681.3333333334, 694649.615, 563134.9166666666, 556834.9166666666, 655803.7066666667, 699181.3333333334, 680281.3333333334], \"yaxis\": \"y3\"}],                        {\"template\": {\"data\": {\"bar\": [{\"error_x\": {\"color\": \"#2a3f5f\"}, \"error_y\": {\"color\": \"#2a3f5f\"}, \"marker\": {\"line\": {\"color\": \"#E5ECF6\", \"width\": 0.5}}, \"type\": \"bar\"}], \"barpolar\": [{\"marker\": {\"line\": {\"color\": \"#E5ECF6\", \"width\": 0.5}}, \"type\": \"barpolar\"}], \"carpet\": [{\"aaxis\": {\"endlinecolor\": \"#2a3f5f\", \"gridcolor\": \"white\", \"linecolor\": \"white\", \"minorgridcolor\": \"white\", \"startlinecolor\": \"#2a3f5f\"}, \"baxis\": {\"endlinecolor\": \"#2a3f5f\", \"gridcolor\": \"white\", \"linecolor\": \"white\", \"minorgridcolor\": \"white\", \"startlinecolor\": \"#2a3f5f\"}, \"type\": \"carpet\"}], \"choropleth\": [{\"colorbar\": {\"outlinewidth\": 0, \"ticks\": \"\"}, \"type\": \"choropleth\"}], \"contour\": [{\"colorbar\": {\"outlinewidth\": 0, \"ticks\": \"\"}, \"colorscale\": [[0.0, \"#0d0887\"], [0.1111111111111111, \"#46039f\"], [0.2222222222222222, \"#7201a8\"], [0.3333333333333333, \"#9c179e\"], [0.4444444444444444, \"#bd3786\"], [0.5555555555555556, \"#d8576b\"], [0.6666666666666666, \"#ed7953\"], [0.7777777777777778, \"#fb9f3a\"], [0.8888888888888888, \"#fdca26\"], [1.0, \"#f0f921\"]], \"type\": \"contour\"}], \"contourcarpet\": [{\"colorbar\": {\"outlinewidth\": 0, \"ticks\": \"\"}, \"type\": \"contourcarpet\"}], \"heatmap\": [{\"colorbar\": {\"outlinewidth\": 0, \"ticks\": \"\"}, \"colorscale\": [[0.0, \"#0d0887\"], [0.1111111111111111, \"#46039f\"], [0.2222222222222222, \"#7201a8\"], [0.3333333333333333, \"#9c179e\"], [0.4444444444444444, \"#bd3786\"], [0.5555555555555556, \"#d8576b\"], [0.6666666666666666, \"#ed7953\"], [0.7777777777777778, \"#fb9f3a\"], [0.8888888888888888, \"#fdca26\"], [1.0, \"#f0f921\"]], \"type\": \"heatmap\"}], \"heatmapgl\": [{\"colorbar\": {\"outlinewidth\": 0, \"ticks\": \"\"}, \"colorscale\": [[0.0, \"#0d0887\"], [0.1111111111111111, \"#46039f\"], [0.2222222222222222, \"#7201a8\"], [0.3333333333333333, \"#9c179e\"], [0.4444444444444444, \"#bd3786\"], [0.5555555555555556, \"#d8576b\"], [0.6666666666666666, \"#ed7953\"], [0.7777777777777778, \"#fb9f3a\"], [0.8888888888888888, \"#fdca26\"], [1.0, \"#f0f921\"]], \"type\": \"heatmapgl\"}], \"histogram\": [{\"marker\": {\"colorbar\": {\"outlinewidth\": 0, \"ticks\": \"\"}}, \"type\": \"histogram\"}], \"histogram2d\": [{\"colorbar\": {\"outlinewidth\": 0, \"ticks\": \"\"}, \"colorscale\": [[0.0, \"#0d0887\"], [0.1111111111111111, \"#46039f\"], [0.2222222222222222, \"#7201a8\"], [0.3333333333333333, \"#9c179e\"], [0.4444444444444444, \"#bd3786\"], [0.5555555555555556, \"#d8576b\"], [0.6666666666666666, \"#ed7953\"], [0.7777777777777778, \"#fb9f3a\"], [0.8888888888888888, \"#fdca26\"], [1.0, \"#f0f921\"]], \"type\": \"histogram2d\"}], \"histogram2dcontour\": [{\"colorbar\": {\"outlinewidth\": 0, \"ticks\": \"\"}, \"colorscale\": [[0.0, \"#0d0887\"], [0.1111111111111111, \"#46039f\"], [0.2222222222222222, \"#7201a8\"], [0.3333333333333333, \"#9c179e\"], [0.4444444444444444, \"#bd3786\"], [0.5555555555555556, \"#d8576b\"], [0.6666666666666666, \"#ed7953\"], [0.7777777777777778, \"#fb9f3a\"], [0.8888888888888888, \"#fdca26\"], [1.0, \"#f0f921\"]], \"type\": \"histogram2dcontour\"}], \"mesh3d\": [{\"colorbar\": {\"outlinewidth\": 0, \"ticks\": \"\"}, \"type\": \"mesh3d\"}], \"parcoords\": [{\"line\": {\"colorbar\": {\"outlinewidth\": 0, \"ticks\": \"\"}}, \"type\": \"parcoords\"}], \"pie\": [{\"automargin\": true, \"type\": \"pie\"}], \"scatter\": [{\"marker\": {\"colorbar\": {\"outlinewidth\": 0, \"ticks\": \"\"}}, \"type\": \"scatter\"}], \"scatter3d\": [{\"line\": {\"colorbar\": {\"outlinewidth\": 0, \"ticks\": \"\"}}, \"marker\": {\"colorbar\": {\"outlinewidth\": 0, \"ticks\": \"\"}}, \"type\": \"scatter3d\"}], \"scattercarpet\": [{\"marker\": {\"colorbar\": {\"outlinewidth\": 0, \"ticks\": \"\"}}, \"type\": \"scattercarpet\"}], \"scattergeo\": [{\"marker\": {\"colorbar\": {\"outlinewidth\": 0, \"ticks\": \"\"}}, \"type\": \"scattergeo\"}], \"scattergl\": [{\"marker\": {\"colorbar\": {\"outlinewidth\": 0, \"ticks\": \"\"}}, \"type\": \"scattergl\"}], \"scattermapbox\": [{\"marker\": {\"colorbar\": {\"outlinewidth\": 0, \"ticks\": \"\"}}, \"type\": \"scattermapbox\"}], \"scatterpolar\": [{\"marker\": {\"colorbar\": {\"outlinewidth\": 0, \"ticks\": \"\"}}, \"type\": \"scatterpolar\"}], \"scatterpolargl\": [{\"marker\": {\"colorbar\": {\"outlinewidth\": 0, \"ticks\": \"\"}}, \"type\": \"scatterpolargl\"}], \"scatterternary\": [{\"marker\": {\"colorbar\": {\"outlinewidth\": 0, \"ticks\": \"\"}}, \"type\": \"scatterternary\"}], \"surface\": [{\"colorbar\": {\"outlinewidth\": 0, \"ticks\": \"\"}, \"colorscale\": [[0.0, \"#0d0887\"], [0.1111111111111111, \"#46039f\"], [0.2222222222222222, \"#7201a8\"], [0.3333333333333333, \"#9c179e\"], [0.4444444444444444, \"#bd3786\"], [0.5555555555555556, \"#d8576b\"], [0.6666666666666666, \"#ed7953\"], [0.7777777777777778, \"#fb9f3a\"], [0.8888888888888888, \"#fdca26\"], [1.0, \"#f0f921\"]], \"type\": \"surface\"}], \"table\": [{\"cells\": {\"fill\": {\"color\": \"#EBF0F8\"}, \"line\": {\"color\": \"white\"}}, \"header\": {\"fill\": {\"color\": \"#C8D4E3\"}, \"line\": {\"color\": \"white\"}}, \"type\": \"table\"}]}, \"layout\": {\"annotationdefaults\": {\"arrowcolor\": \"#2a3f5f\", \"arrowhead\": 0, \"arrowwidth\": 1}, \"coloraxis\": {\"colorbar\": {\"outlinewidth\": 0, \"ticks\": \"\"}}, \"colorscale\": {\"diverging\": [[0, \"#8e0152\"], [0.1, \"#c51b7d\"], [0.2, \"#de77ae\"], [0.3, \"#f1b6da\"], [0.4, \"#fde0ef\"], [0.5, \"#f7f7f7\"], [0.6, \"#e6f5d0\"], [0.7, \"#b8e186\"], [0.8, \"#7fbc41\"], [0.9, \"#4d9221\"], [1, \"#276419\"]], \"sequential\": [[0.0, \"#0d0887\"], [0.1111111111111111, \"#46039f\"], [0.2222222222222222, \"#7201a8\"], [0.3333333333333333, \"#9c179e\"], [0.4444444444444444, \"#bd3786\"], [0.5555555555555556, \"#d8576b\"], [0.6666666666666666, \"#ed7953\"], [0.7777777777777778, \"#fb9f3a\"], [0.8888888888888888, \"#fdca26\"], [1.0, \"#f0f921\"]], \"sequentialminus\": [[0.0, \"#0d0887\"], [0.1111111111111111, \"#46039f\"], [0.2222222222222222, \"#7201a8\"], [0.3333333333333333, \"#9c179e\"], [0.4444444444444444, \"#bd3786\"], [0.5555555555555556, \"#d8576b\"], [0.6666666666666666, \"#ed7953\"], [0.7777777777777778, \"#fb9f3a\"], [0.8888888888888888, \"#fdca26\"], [1.0, \"#f0f921\"]]}, \"colorway\": [\"#636efa\", \"#EF553B\", \"#00cc96\", \"#ab63fa\", \"#FFA15A\", \"#19d3f3\", \"#FF6692\", \"#B6E880\", \"#FF97FF\", \"#FECB52\"], \"font\": {\"color\": \"#2a3f5f\"}, \"geo\": {\"bgcolor\": \"white\", \"lakecolor\": \"white\", \"landcolor\": \"#E5ECF6\", \"showlakes\": true, \"showland\": true, \"subunitcolor\": \"white\"}, \"hoverlabel\": {\"align\": \"left\"}, \"hovermode\": \"closest\", \"mapbox\": {\"style\": \"light\"}, \"paper_bgcolor\": \"white\", \"plot_bgcolor\": \"#E5ECF6\", \"polar\": {\"angularaxis\": {\"gridcolor\": \"white\", \"linecolor\": \"white\", \"ticks\": \"\"}, \"bgcolor\": \"#E5ECF6\", \"radialaxis\": {\"gridcolor\": \"white\", \"linecolor\": \"white\", \"ticks\": \"\"}}, \"scene\": {\"xaxis\": {\"backgroundcolor\": \"#E5ECF6\", \"gridcolor\": \"white\", \"gridwidth\": 2, \"linecolor\": \"white\", \"showbackground\": true, \"ticks\": \"\", \"zerolinecolor\": \"white\"}, \"yaxis\": {\"backgroundcolor\": \"#E5ECF6\", \"gridcolor\": \"white\", \"gridwidth\": 2, \"linecolor\": \"white\", \"showbackground\": true, \"ticks\": \"\", \"zerolinecolor\": \"white\"}, \"zaxis\": {\"backgroundcolor\": \"#E5ECF6\", \"gridcolor\": \"white\", \"gridwidth\": 2, \"linecolor\": \"white\", \"showbackground\": true, \"ticks\": \"\", \"zerolinecolor\": \"white\"}}, \"shapedefaults\": {\"line\": {\"color\": \"#2a3f5f\"}}, \"ternary\": {\"aaxis\": {\"gridcolor\": \"white\", \"linecolor\": \"white\", \"ticks\": \"\"}, \"baxis\": {\"gridcolor\": \"white\", \"linecolor\": \"white\", \"ticks\": \"\"}, \"bgcolor\": \"#E5ECF6\", \"caxis\": {\"gridcolor\": \"white\", \"linecolor\": \"white\", \"ticks\": \"\"}}, \"title\": {\"x\": 0.05}, \"xaxis\": {\"automargin\": true, \"gridcolor\": \"white\", \"linecolor\": \"white\", \"ticks\": \"\", \"title\": {\"standoff\": 15}, \"zerolinecolor\": \"white\", \"zerolinewidth\": 2}, \"yaxis\": {\"automargin\": true, \"gridcolor\": \"white\", \"linecolor\": \"white\", \"ticks\": \"\", \"title\": {\"standoff\": 15}, \"zerolinecolor\": \"white\", \"zerolinewidth\": 2}}}, \"xaxis\": {\"anchor\": \"y\", \"domain\": [0.0, 0.2888888888888889]}, \"xaxis2\": {\"anchor\": \"y2\", \"domain\": [0.35555555555555557, 0.6444444444444445]}, \"xaxis3\": {\"anchor\": \"y3\", \"domain\": [0.7111111111111111, 1.0]}, \"yaxis\": {\"anchor\": \"x\", \"domain\": [0.0, 1.0]}, \"yaxis2\": {\"anchor\": \"x2\", \"domain\": [0.0, 1.0]}, \"yaxis3\": {\"anchor\": \"x3\", \"domain\": [0.0, 1.0]}},                        {\"responsive\": true}                    ).then(function(){\n",
       "                            \n",
       "var gd = document.getElementById('5c4691ee-028b-431c-8a5c-57f25e30b1f2');\n",
       "var x = new MutationObserver(function (mutations, observer) {{\n",
       "        var display = window.getComputedStyle(gd).display;\n",
       "        if (!display || display === 'none') {{\n",
       "            console.log([gd, 'removed!']);\n",
       "            Plotly.purge(gd);\n",
       "            observer.disconnect();\n",
       "        }}\n",
       "}});\n",
       "\n",
       "// Listen for the removal of the full notebook cells\n",
       "var notebookContainer = gd.closest('#notebook-container');\n",
       "if (notebookContainer) {{\n",
       "    x.observe(notebookContainer, {childList: true});\n",
       "}}\n",
       "\n",
       "// Listen for the clearing of the current output cell\n",
       "var outputEl = gd.closest('.output');\n",
       "if (outputEl) {{\n",
       "    x.observe(outputEl, {childList: true});\n",
       "}}\n",
       "\n",
       "                        })                };                });            </script>        </div>"
      ]
     },
     "metadata": {},
     "output_type": "display_data"
    }
   ],
   "source": [
    "fig=make_subplots(rows=1,cols=3)\n",
    "objects=[go.Box(y=df['profit'][df['arrival_city']==name],name=name) for name in names]\n",
    "fig.add_traces(objects,\n",
    "              rows=[1,1,1],\n",
    "              cols=[1,2,3])"
   ]
  },
  {
   "cell_type": "markdown",
   "metadata": {},
   "source": [
    "как видим бокс-плот по Новокузнецку полностью пустой.И действительно в базе данных,в таблице tickets_flights отстутсвует информация по выручке и проданным\n",
    "билетам на данные рейсы в январе-феврале 2017г.Это либо проблема с заполнением базы,либо действительно не продано ни одного билета да Новокузнецка.Поэтому вероятно я бы рекомендовал\n",
    "отказаться от рейсов в Новокузнецк в зимний период."
   ]
  }
 ],
 "metadata": {
  "kernelspec": {
   "display_name": "Python 3",
   "language": "python",
   "name": "python3"
  },
  "language_info": {
   "codemirror_mode": {
    "name": "ipython",
    "version": 3
   },
   "file_extension": ".py",
   "mimetype": "text/x-python",
   "name": "python",
   "nbconvert_exporter": "python",
   "pygments_lexer": "ipython3",
   "version": "3.8.5"
  },
  "varInspector": {
   "cols": {
    "lenName": 16,
    "lenType": 16,
    "lenVar": 40
   },
   "kernels_config": {
    "python": {
     "delete_cmd_postfix": "",
     "delete_cmd_prefix": "del ",
     "library": "var_list.py",
     "varRefreshCmd": "print(var_dic_list())"
    },
    "r": {
     "delete_cmd_postfix": ") ",
     "delete_cmd_prefix": "rm(",
     "library": "var_list.r",
     "varRefreshCmd": "cat(var_dic_list()) "
    }
   },
   "types_to_exclude": [
    "module",
    "function",
    "builtin_function_or_method",
    "instance",
    "_Feature"
   ],
   "window_display": false
  }
 },
 "nbformat": 4,
 "nbformat_minor": 4
}
