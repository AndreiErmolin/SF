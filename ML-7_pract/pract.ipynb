{
 "cells": [
  {
   "cell_type": "code",
   "execution_count": null,
   "id": "c414b0da-7458-445a-a279-74717678a602",
   "metadata": {},
   "outputs": [],
   "source": [
    "import sympy as sy\n",
    "import numpy as np\n",
    "import pandas as pd\n",
    "import itertools as it\n",
    "import fractions\n",
    "from scipy.stats import norm,t\n",
    "import plotly.express as px\n",
    "from plotly.subplots import make_subplots\n",
    "from plotly.offline import iplot,init_notebook_mode,download_plotlyjs,plot\n",
    "import plotly.figure_factory as ff\n",
    "import plotly.graph_objects as go\n",
    "init_notebook_mode(connected=True)\n",
    "#init_notebook_mode()\n",
    "x=sy.symbols('x1:110')\n",
    "import math\n",
    "from sklearn.model_selection import train_test_split\n",
    "from sklearn import model_selection\n",
    "from sklearn import linear_model,tree,ensemble\n",
    "from sklearn.cluster import KMeans\n",
    "from sklearn import metrics\n",
    "from sklearn import preprocessing\n",
    "from sklearn.preprocessing import PolynomialFeatures\n",
    "from sklearn import metrics\n",
    "import os\n",
    "from datetime import datetime,timedelta\n",
    "from collections import Counter\n",
    "from IPython.core.display import HTML\n",
    "from IPython import display\n",
    "import dtale\n",
    "from scipy import stats\n",
    "import helper\n",
    "import re"
   ]
  },
  {
   "cell_type": "code",
   "execution_count": null,
   "id": "be3841da-9200-4546-8ce9-2a823ad15a15",
   "metadata": {},
   "outputs": [],
   "source": []
  },
  {
   "cell_type": "code",
   "execution_count": null,
   "id": "f9f72bd0-1027-4b17-a23c-e1e74d2f4e2e",
   "metadata": {},
   "outputs": [],
   "source": []
  },
  {
   "cell_type": "code",
   "execution_count": null,
   "id": "58d4dffb-da0e-4c13-bc27-00dc0f399e31",
   "metadata": {},
   "outputs": [],
   "source": []
  },
  {
   "cell_type": "code",
   "execution_count": null,
   "id": "03d894ad-44fd-4aa9-be00-4cd5bd63edbc",
   "metadata": {},
   "outputs": [],
   "source": []
  }
 ],
 "metadata": {
  "kernelspec": {
   "display_name": "Python 3 (ipykernel)",
   "language": "python",
   "name": "python3"
  },
  "language_info": {
   "codemirror_mode": {
    "name": "ipython",
    "version": 3
   },
   "file_extension": ".py",
   "mimetype": "text/x-python",
   "name": "python",
   "nbconvert_exporter": "python",
   "pygments_lexer": "ipython3",
   "version": "3.8.13"
  }
 },
 "nbformat": 4,
 "nbformat_minor": 5
}
